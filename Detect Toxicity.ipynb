{
 "cells": [
  {
   "cell_type": "markdown",
   "metadata": {},
   "source": [
    "https://www.kaggle.com/c/jigsaw-unintended-bias-in-toxicity-classification/data         \n",
    "https://www.kaggle.com/c/jigsaw-toxic-comment-classification-challenge/data          \n",
    "https://www.kaggle.com/tunguz/logistic-regression-with-words-and-char-n-grams         "
   ]
  },
  {
   "cell_type": "code",
   "execution_count": 6,
   "metadata": {},
   "outputs": [],
   "source": [
    "import numpy as np\n",
    "import pandas as pd\n",
    "import matplotlib.pyplot as plt\n",
    "import seaborn as sns; sns.set()"
   ]
  },
  {
   "cell_type": "code",
   "execution_count": 2,
   "metadata": {},
   "outputs": [],
   "source": [
    "import re, string, nltk\n",
    "from scipy.sparse import vstack\n",
    "from nltk.tokenize import word_tokenize\n",
    "from wordcloud import WordCloud"
   ]
  },
  {
   "cell_type": "code",
   "execution_count": 21,
   "metadata": {},
   "outputs": [],
   "source": [
    "from sklearn.cluster import KMeans\n",
    "from sklearn.metrics import accuracy_score, precision_score, recall_score, f1_score, precision_recall_curve, roc_auc_score\n",
    "from sklearn.decomposition import PCA, TruncatedSVD\n",
    "from sklearn.feature_extraction.text import TfidfVectorizer, CountVectorizer\n",
    "from sklearn.linear_model import LogisticRegression\n",
    "from sklearn.ensemble import RandomForestClassifier\n",
    "from sklearn.model_selection import train_test_split\n",
    "from sklearn.preprocessing import LabelEncoder\n",
    "from sklearn.utils import resample\n",
    "from scipy.spatial.distance import cdist\n",
    "from yellowbrick.cluster import KElbowVisualizer"
   ]
  },
  {
   "cell_type": "code",
   "execution_count": 7,
   "metadata": {},
   "outputs": [],
   "source": [
    "pd.set_option('display.max_columns', 50)"
   ]
  },
  {
   "cell_type": "code",
   "execution_count": 5,
   "metadata": {},
   "outputs": [],
   "source": [
    "def downsampling(features, target):\n",
    "    labels = []\n",
    "    idx = np.where(target.values==1)[0]\n",
    "    A = [features[i] for i in idx]\n",
    "    l = idx.shape[0]\n",
    "    labels += [1]*l\n",
    "\n",
    "    idx = np.where(target.values==0)[0]\n",
    "    idx = np.random.choice(idx, l)\n",
    "    B = [features[i] for i in idx]\n",
    "\n",
    "    features = A + B\n",
    "    labels += [0]*l\n",
    "    labels = np.array(labels)    \n",
    "    \n",
    "    return features, labels"
   ]
  },
  {
   "cell_type": "code",
   "execution_count": 6,
   "metadata": {},
   "outputs": [],
   "source": [
    "def upsampling(features, targets):\n",
    "    \n",
    "    labels = []\n",
    "    idx = np.where(target.values==0)[0]\n",
    "    A = [features[i] for i in idx]\n",
    "    l = idx.shape[0]\n",
    "    labels += [0]*l\n",
    "\n",
    "    idx = np.where(target.values==1)[0]\n",
    "    idx = np.random.choice(idx, l)\n",
    "    B = [features[i] for i in idx]\n",
    "\n",
    "    features = A + B\n",
    "    labels += [1]*l\n",
    "    labels = np.array(labels)   \n",
    "    \n",
    "    return features, labels"
   ]
  },
  {
   "cell_type": "code",
   "execution_count": 7,
   "metadata": {},
   "outputs": [],
   "source": [
    "def predict(model, X_test, y_test):\n",
    "    pred = model.predict(X_test)\n",
    "\n",
    "    precision = precision_score(pred,y_test,average=None), precision_score(pred,y_test)\n",
    "    recall = recall_score(pred,y_test,average=None), recall_score(pred,y_test)\n",
    "    f1 = f1_score(pred,y_test,average=None), f1_score(pred,y_test)\n",
    "    accuracy = accuracy_score(pred,y_test)\n",
    "    roc = roc_auc_score(pred, y_test)\n",
    "\n",
    "    print('precision:',precision,\n",
    "      '\\nrecall:',recall,'\\nf1:',f1,'\\nacc:',accuracy,'\\nroc:',roc)"
   ]
  },
  {
   "cell_type": "markdown",
   "metadata": {},
   "source": [
    "## Load Data"
   ]
  },
  {
   "cell_type": "code",
   "execution_count": 8,
   "metadata": {},
   "outputs": [
    {
     "name": "stdout",
     "output_type": "stream",
     "text": [
      "(1804874, 45)\n"
     ]
    },
    {
     "data": {
      "text/html": [
       "<div>\n",
       "<style scoped>\n",
       "    .dataframe tbody tr th:only-of-type {\n",
       "        vertical-align: middle;\n",
       "    }\n",
       "\n",
       "    .dataframe tbody tr th {\n",
       "        vertical-align: top;\n",
       "    }\n",
       "\n",
       "    .dataframe thead th {\n",
       "        text-align: right;\n",
       "    }\n",
       "</style>\n",
       "<table border=\"1\" class=\"dataframe\">\n",
       "  <thead>\n",
       "    <tr style=\"text-align: right;\">\n",
       "      <th></th>\n",
       "      <th>id</th>\n",
       "      <th>target</th>\n",
       "      <th>comment_text</th>\n",
       "      <th>severe_toxicity</th>\n",
       "      <th>obscene</th>\n",
       "      <th>identity_attack</th>\n",
       "      <th>insult</th>\n",
       "      <th>threat</th>\n",
       "      <th>asian</th>\n",
       "      <th>atheist</th>\n",
       "      <th>bisexual</th>\n",
       "      <th>black</th>\n",
       "      <th>buddhist</th>\n",
       "      <th>christian</th>\n",
       "      <th>female</th>\n",
       "      <th>heterosexual</th>\n",
       "      <th>hindu</th>\n",
       "      <th>homosexual_gay_or_lesbian</th>\n",
       "      <th>intellectual_or_learning_disability</th>\n",
       "      <th>jewish</th>\n",
       "      <th>latino</th>\n",
       "      <th>male</th>\n",
       "      <th>muslim</th>\n",
       "      <th>other_disability</th>\n",
       "      <th>other_gender</th>\n",
       "      <th>other_race_or_ethnicity</th>\n",
       "      <th>other_religion</th>\n",
       "      <th>other_sexual_orientation</th>\n",
       "      <th>physical_disability</th>\n",
       "      <th>psychiatric_or_mental_illness</th>\n",
       "      <th>transgender</th>\n",
       "      <th>white</th>\n",
       "      <th>created_date</th>\n",
       "      <th>publication_id</th>\n",
       "      <th>parent_id</th>\n",
       "      <th>article_id</th>\n",
       "      <th>rating</th>\n",
       "      <th>funny</th>\n",
       "      <th>wow</th>\n",
       "      <th>sad</th>\n",
       "      <th>likes</th>\n",
       "      <th>disagree</th>\n",
       "      <th>sexual_explicit</th>\n",
       "      <th>identity_annotator_count</th>\n",
       "      <th>toxicity_annotator_count</th>\n",
       "    </tr>\n",
       "  </thead>\n",
       "  <tbody>\n",
       "    <tr>\n",
       "      <th>0</th>\n",
       "      <td>59848</td>\n",
       "      <td>0.0</td>\n",
       "      <td>This is so cool. It's like, 'would you want yo...</td>\n",
       "      <td>0.0</td>\n",
       "      <td>0.0</td>\n",
       "      <td>0.0</td>\n",
       "      <td>0.0</td>\n",
       "      <td>0.0</td>\n",
       "      <td>NaN</td>\n",
       "      <td>NaN</td>\n",
       "      <td>NaN</td>\n",
       "      <td>NaN</td>\n",
       "      <td>NaN</td>\n",
       "      <td>NaN</td>\n",
       "      <td>NaN</td>\n",
       "      <td>NaN</td>\n",
       "      <td>NaN</td>\n",
       "      <td>NaN</td>\n",
       "      <td>NaN</td>\n",
       "      <td>NaN</td>\n",
       "      <td>NaN</td>\n",
       "      <td>NaN</td>\n",
       "      <td>NaN</td>\n",
       "      <td>NaN</td>\n",
       "      <td>NaN</td>\n",
       "      <td>NaN</td>\n",
       "      <td>NaN</td>\n",
       "      <td>NaN</td>\n",
       "      <td>NaN</td>\n",
       "      <td>NaN</td>\n",
       "      <td>NaN</td>\n",
       "      <td>NaN</td>\n",
       "      <td>2015-09-29 10:50:41.987077+00</td>\n",
       "      <td>2</td>\n",
       "      <td>NaN</td>\n",
       "      <td>2006</td>\n",
       "      <td>rejected</td>\n",
       "      <td>0</td>\n",
       "      <td>0</td>\n",
       "      <td>0</td>\n",
       "      <td>0</td>\n",
       "      <td>0</td>\n",
       "      <td>0.0</td>\n",
       "      <td>0</td>\n",
       "      <td>4</td>\n",
       "    </tr>\n",
       "  </tbody>\n",
       "</table>\n",
       "</div>"
      ],
      "text/plain": [
       "      id  target                                       comment_text  \\\n",
       "0  59848     0.0  This is so cool. It's like, 'would you want yo...   \n",
       "\n",
       "   severe_toxicity  obscene  identity_attack  insult  threat  asian  atheist  \\\n",
       "0              0.0      0.0              0.0     0.0     0.0    NaN      NaN   \n",
       "\n",
       "   bisexual  black  buddhist  christian  female  heterosexual  hindu  \\\n",
       "0       NaN    NaN       NaN        NaN     NaN           NaN    NaN   \n",
       "\n",
       "   homosexual_gay_or_lesbian  intellectual_or_learning_disability  jewish  \\\n",
       "0                        NaN                                  NaN     NaN   \n",
       "\n",
       "   latino  male  muslim  other_disability  other_gender  \\\n",
       "0     NaN   NaN     NaN               NaN           NaN   \n",
       "\n",
       "   other_race_or_ethnicity  other_religion  other_sexual_orientation  \\\n",
       "0                      NaN             NaN                       NaN   \n",
       "\n",
       "   physical_disability  psychiatric_or_mental_illness  transgender  white  \\\n",
       "0                  NaN                            NaN          NaN    NaN   \n",
       "\n",
       "                    created_date  publication_id  parent_id  article_id  \\\n",
       "0  2015-09-29 10:50:41.987077+00               2        NaN        2006   \n",
       "\n",
       "     rating  funny  wow  sad  likes  disagree  sexual_explicit  \\\n",
       "0  rejected      0    0    0      0         0              0.0   \n",
       "\n",
       "   identity_annotator_count  toxicity_annotator_count  \n",
       "0                         0                         4  "
      ]
     },
     "execution_count": 8,
     "metadata": {},
     "output_type": "execute_result"
    }
   ],
   "source": [
    "df = pd.read_csv('toxicity/train.csv')\n",
    "print(df.shape)\n",
    "df.head(1)"
   ]
  },
  {
   "cell_type": "code",
   "execution_count": 9,
   "metadata": {},
   "outputs": [],
   "source": [
    "data = df['comment_text'].values"
   ]
  },
  {
   "cell_type": "markdown",
   "metadata": {},
   "source": [
    "# Preprocess - With Punct, Lemma"
   ]
  },
  {
   "cell_type": "markdown",
   "metadata": {},
   "source": [
    "1\\. Tokenize        \n",
    "2\\. Lower        \n",
    "3\\. Lemmatize        \n",
    "4\\. Encode        \n",
    "* How to deal with punctuation?      \n",
    "* Analyze if lemmatizer or stemmer is better?"
   ]
  },
  {
   "cell_type": "code",
   "execution_count": 10,
   "metadata": {},
   "outputs": [],
   "source": [
    "stopwords = nltk.corpus.stopwords.words('english')\n",
    "punctuation = '[\"#$%&\\'()+,-./:;<=>@[\\\\]^_`{|}~]'\n",
    "ps = nltk.PorterStemmer()\n",
    "wn = nltk.WordNetLemmatizer()"
   ]
  },
  {
   "cell_type": "code",
   "execution_count": 11,
   "metadata": {},
   "outputs": [],
   "source": [
    "def clean_text(comment):\n",
    "    comment = re.sub(punctuation, '', comment)\n",
    "    comment = ' '.join([wn.lemmatize(token) for token in word_tokenize(comment.lower()) if token not in stopwords])\n",
    "    return comment"
   ]
  },
  {
   "cell_type": "code",
   "execution_count": 12,
   "metadata": {
    "collapsed": true
   },
   "outputs": [
    {
     "name": "stdout",
     "output_type": "stream",
     "text": [
      "0\n",
      "100000\n",
      "200000\n",
      "300000\n",
      "400000\n",
      "500000\n",
      "600000\n",
      "700000\n",
      "800000\n",
      "900000\n",
      "1000000\n",
      "1100000\n",
      "1200000\n",
      "1300000\n",
      "1400000\n",
      "1500000\n",
      "1600000\n",
      "1700000\n",
      "1800000\n"
     ]
    }
   ],
   "source": [
    "features = []\n",
    "for i,row in enumerate(data):\n",
    "    features += [clean_text(row)]\n",
    "    \n",
    "    if i % 100000 == 0: print(i)\n",
    "        \n",
    "features = np.array(features)"
   ]
  },
  {
   "cell_type": "markdown",
   "metadata": {},
   "source": [
    "## 0. Target"
   ]
  },
  {
   "cell_type": "code",
   "execution_count": 25,
   "metadata": {},
   "outputs": [
    {
     "data": {
      "text/plain": [
       "0    1264764\n",
       "1     540110\n",
       "Name: target, dtype: int64"
      ]
     },
     "execution_count": 25,
     "metadata": {},
     "output_type": "execute_result"
    }
   ],
   "source": [
    "target = df['target'].apply(lambda x: 1 if x >0 else 0)\n",
    "target.value_counts()"
   ]
  },
  {
   "cell_type": "code",
   "execution_count": 14,
   "metadata": {},
   "outputs": [],
   "source": [
    "down_sampled_features, down_labels = downsampling(features, target)\n",
    "up_sampled_features, up_labels = upsampling(features, target)"
   ]
  },
  {
   "cell_type": "code",
   "execution_count": 15,
   "metadata": {},
   "outputs": [
    {
     "name": "stderr",
     "output_type": "stream",
     "text": [
      "/Users/osamaqureshi/anaconda3/lib/python3.7/site-packages/sklearn/linear_model/logistic.py:433: FutureWarning: Default solver will be changed to 'lbfgs' in 0.22. Specify a solver to silence this warning.\n",
      "  FutureWarning)\n"
     ]
    },
    {
     "name": "stdout",
     "output_type": "stream",
     "text": [
      "precision: (array([0.82646134, 0.70446796]), 0.7044679589340647) \n",
      "recall: (array([0.73695279, 0.80206136]), 0.8020613553886404) \n",
      "f1: (array([0.7791448 , 0.75010359]), 0.7501035932042857) \n",
      "acc: 0.7655199866693821 \n",
      "roc: 0.7695070739599488\n"
     ]
    }
   ],
   "source": [
    "#downsample\n",
    "model = TfidfVectorizer(sublinear_tf=True, min_df=5).fit(down_sampled_features)\n",
    "tfidf_features = model.transform(down_sampled_features)\n",
    "X_train, X_test, y_train, y_test = train_test_split(tfidf_features, down_labels, test_size=0.2, random_state=42)\n",
    "\n",
    "clf = LogisticRegression().fit(X_train, y_train)\n",
    "predict(clf, X_test, y_test)"
   ]
  },
  {
   "cell_type": "code",
   "execution_count": 16,
   "metadata": {},
   "outputs": [],
   "source": [
    "# rf = RandomForestClassifier().fit(X_train, y_train)\n",
    "# predict(rf, X_test, y_test)"
   ]
  },
  {
   "cell_type": "code",
   "execution_count": 17,
   "metadata": {},
   "outputs": [
    {
     "name": "stderr",
     "output_type": "stream",
     "text": [
      "/Users/osamaqureshi/anaconda3/lib/python3.7/site-packages/sklearn/linear_model/logistic.py:433: FutureWarning: Default solver will be changed to 'lbfgs' in 0.22. Specify a solver to silence this warning.\n",
      "  FutureWarning)\n"
     ]
    },
    {
     "name": "stdout",
     "output_type": "stream",
     "text": [
      "precision: (array([0.83313238, 0.72149412]), 0.7214941151819213) \n",
      "recall: (array([0.74948435, 0.81214565]), 0.8121456480912838) \n",
      "f1: (array([0.78909779, 0.76414073]), 0.7641407321336977) \n",
      "acc: 0.7773163393990188 \n",
      "roc: 0.7808150004325551\n"
     ]
    }
   ],
   "source": [
    "#upsample\n",
    "model = TfidfVectorizer(sublinear_tf=True, min_df=5).fit(up_sampled_features)\n",
    "tfidf_features = model.transform(up_sampled_features)\n",
    "X_train, X_test, y_train, y_test = train_test_split(tfidf_features, up_labels, test_size=0.2, random_state=42)\n",
    "\n",
    "clf = LogisticRegression().fit(X_train, y_train)\n",
    "predict(clf, X_test, y_test)"
   ]
  },
  {
   "cell_type": "code",
   "execution_count": 18,
   "metadata": {},
   "outputs": [],
   "source": [
    "# rf = RandomForestClassifier().fit(X_train, y_train)\n",
    "# predict(rf, X_test, y_test)"
   ]
  },
  {
   "cell_type": "code",
   "execution_count": 19,
   "metadata": {},
   "outputs": [
    {
     "name": "stderr",
     "output_type": "stream",
     "text": [
      "/Users/osamaqureshi/anaconda3/lib/python3.7/site-packages/sklearn/linear_model/logistic.py:433: FutureWarning: Default solver will be changed to 'lbfgs' in 0.22. Specify a solver to silence this warning.\n",
      "  FutureWarning)\n"
     ]
    },
    {
     "name": "stdout",
     "output_type": "stream",
     "text": [
      "precision: (array([0.93574335, 0.51008176]), 0.5100817589216661) \n",
      "recall: (array([0.81610669, 0.77357331]), 0.7735733135987266) \n",
      "f1: (array([0.87183993, 0.61478452]), 0.6147845241331861) \n",
      "acc: 0.8076681210610153 \n",
      "roc: 0.7948400024818743\n"
     ]
    }
   ],
   "source": [
    "# no sampling\n",
    "model = TfidfVectorizer(sublinear_tf=True, min_df=5).fit(features)\n",
    "tfidf_features = model.transform(features)\n",
    "X_train, X_test, y_train, y_test = train_test_split(tfidf_features, target, test_size=0.2, random_state=42)\n",
    "\n",
    "clf = LogisticRegression().fit(X_train, y_train)\n",
    "predict(clf, X_test, y_test)"
   ]
  },
  {
   "cell_type": "code",
   "execution_count": 20,
   "metadata": {},
   "outputs": [],
   "source": [
    "# rf = RandomForestClassifier().fit(X_train, y_train)\n",
    "# predict(rf, X_test, y_test)"
   ]
  },
  {
   "cell_type": "markdown",
   "metadata": {},
   "source": [
    "## 1. severe_toxic"
   ]
  },
  {
   "cell_type": "code",
   "execution_count": 21,
   "metadata": {},
   "outputs": [
    {
     "data": {
      "text/plain": [
       "0    1700238\n",
       "1     104636\n",
       "Name: severe_toxicity, dtype: int64"
      ]
     },
     "execution_count": 21,
     "metadata": {},
     "output_type": "execute_result"
    }
   ],
   "source": [
    "target = df['severe_toxicity'].apply(lambda x: 1 if x >0 else 0)\n",
    "target.value_counts()"
   ]
  },
  {
   "cell_type": "code",
   "execution_count": 22,
   "metadata": {},
   "outputs": [],
   "source": [
    "down_sampled_features, down_labels = downsampling(features, target)\n",
    "up_sampled_features, up_labels = upsampling(features, target)"
   ]
  },
  {
   "cell_type": "code",
   "execution_count": 23,
   "metadata": {},
   "outputs": [
    {
     "name": "stderr",
     "output_type": "stream",
     "text": [
      "/Users/osamaqureshi/anaconda3/lib/python3.7/site-packages/sklearn/linear_model/logistic.py:433: FutureWarning: Default solver will be changed to 'lbfgs' in 0.22. Specify a solver to silence this warning.\n",
      "  FutureWarning)\n"
     ]
    },
    {
     "name": "stdout",
     "output_type": "stream",
     "text": [
      "precision: (array([0.8548795 , 0.75784689]), 0.7578468899521531) \n",
      "recall: (array([0.77971708, 0.83893008]), 0.8389300847457627) \n",
      "f1: (array([0.81557023, 0.79632981]), 0.7963298139768727) \n",
      "acc: 0.8064269501851631 \n",
      "roc: 0.8093235842662436\n"
     ]
    }
   ],
   "source": [
    "#downsample\n",
    "model = TfidfVectorizer(sublinear_tf=True, min_df=5).fit(down_sampled_features)\n",
    "tfidf_features = model.transform(down_sampled_features)\n",
    "X_train, X_test, y_train, y_test = train_test_split(tfidf_features, down_labels, test_size=0.2, random_state=42)\n",
    "\n",
    "clf = LogisticRegression().fit(X_train, y_train)\n",
    "predict(clf, X_test, y_test)"
   ]
  },
  {
   "cell_type": "code",
   "execution_count": 24,
   "metadata": {},
   "outputs": [],
   "source": [
    "# rf = RandomForestClassifier().fit(X_train, y_train)\n",
    "# predict(rf, X_test, y_test)"
   ]
  },
  {
   "cell_type": "code",
   "execution_count": 25,
   "metadata": {},
   "outputs": [
    {
     "name": "stderr",
     "output_type": "stream",
     "text": [
      "/Users/osamaqureshi/anaconda3/lib/python3.7/site-packages/sklearn/linear_model/logistic.py:433: FutureWarning: Default solver will be changed to 'lbfgs' in 0.22. Specify a solver to silence this warning.\n",
      "  FutureWarning)\n"
     ]
    },
    {
     "name": "stdout",
     "output_type": "stream",
     "text": [
      "precision: (array([0.87889782, 0.84796011]), 0.8479601141277171) \n",
      "recall: (array([0.85258039, 0.87498141]), 0.8749814095929536) \n",
      "f1: (array([0.8655391 , 0.86125887]), 0.86125887120747) \n",
      "acc: 0.8634325154095892 \n",
      "roc: 0.8637809008749082\n"
     ]
    }
   ],
   "source": [
    "#upsample\n",
    "model = TfidfVectorizer(sublinear_tf=True, min_df=5).fit(up_sampled_features)\n",
    "tfidf_features = model.transform(up_sampled_features)\n",
    "X_train, X_test, y_train, y_test = train_test_split(tfidf_features, up_labels, test_size=0.2, random_state=42)\n",
    "\n",
    "clf = LogisticRegression().fit(X_train, y_train)\n",
    "predict(clf, X_test, y_test)"
   ]
  },
  {
   "cell_type": "code",
   "execution_count": 26,
   "metadata": {},
   "outputs": [],
   "source": [
    "# rf = RandomForestClassifier().fit(X_train, y_train)\n",
    "# predict(rf, X_test, y_test)"
   ]
  },
  {
   "cell_type": "code",
   "execution_count": 27,
   "metadata": {},
   "outputs": [
    {
     "name": "stderr",
     "output_type": "stream",
     "text": [
      "/Users/osamaqureshi/anaconda3/lib/python3.7/site-packages/sklearn/linear_model/logistic.py:433: FutureWarning: Default solver will be changed to 'lbfgs' in 0.22. Specify a solver to silence this warning.\n",
      "  FutureWarning)\n"
     ]
    },
    {
     "name": "stdout",
     "output_type": "stream",
     "text": [
      "precision: (array([0.99331335, 0.282931  ]), 0.2829310017107014) \n",
      "recall: (array([0.95722159, 0.7237146 ]), 0.7237145982739759) \n",
      "f1: (array([0.97493356, 0.40681904]), 0.4068190359058454) \n",
      "acc: 0.9518997160468177 \n",
      "roc: 0.8404680921110089\n"
     ]
    }
   ],
   "source": [
    "# no sampling\n",
    "model = TfidfVectorizer(sublinear_tf=True, min_df=5).fit(features)\n",
    "tfidf_features = model.transform(features)\n",
    "X_train, X_test, y_train, y_test = train_test_split(tfidf_features, target, test_size=0.2, random_state=42)\n",
    "\n",
    "clf = LogisticRegression().fit(X_train, y_train)\n",
    "predict(clf, X_test, y_test)"
   ]
  },
  {
   "cell_type": "code",
   "execution_count": 28,
   "metadata": {},
   "outputs": [],
   "source": [
    "# rf = RandomForestClassifier().fit(X_train, y_train)\n",
    "# predict(rf, X_test, y_test)"
   ]
  },
  {
   "cell_type": "markdown",
   "metadata": {},
   "source": [
    "## 2. obscene"
   ]
  },
  {
   "cell_type": "code",
   "execution_count": 29,
   "metadata": {},
   "outputs": [
    {
     "data": {
      "text/plain": [
       "0    1657699\n",
       "1     147175\n",
       "Name: obscene, dtype: int64"
      ]
     },
     "execution_count": 29,
     "metadata": {},
     "output_type": "execute_result"
    }
   ],
   "source": [
    "target = df['obscene'].apply(lambda x: 1 if x >0 else 0)\n",
    "target.value_counts()"
   ]
  },
  {
   "cell_type": "code",
   "execution_count": 30,
   "metadata": {},
   "outputs": [],
   "source": [
    "down_sampled_features, down_labels = downsampling(features, target)\n",
    "up_sampled_features, up_labels = upsampling(features, target)"
   ]
  },
  {
   "cell_type": "code",
   "execution_count": 31,
   "metadata": {},
   "outputs": [
    {
     "name": "stderr",
     "output_type": "stream",
     "text": [
      "/Users/osamaqureshi/anaconda3/lib/python3.7/site-packages/sklearn/linear_model/logistic.py:433: FutureWarning: Default solver will be changed to 'lbfgs' in 0.22. Specify a solver to silence this warning.\n",
      "  FutureWarning)\n"
     ]
    },
    {
     "name": "stdout",
     "output_type": "stream",
     "text": [
      "precision: (array([0.87794955, 0.74994893]), 0.7499489344318104) \n",
      "recall: (array([0.77903794, 0.85953412]), 0.8595341215029849) \n",
      "f1: (array([0.82554155, 0.80101085]), 0.8010108539534206) \n",
      "acc: 0.8140818753184984 \n",
      "roc: 0.8192860282915785\n"
     ]
    }
   ],
   "source": [
    "#downsample\n",
    "model = TfidfVectorizer(sublinear_tf=True, min_df=5).fit(down_sampled_features)\n",
    "tfidf_features = model.transform(down_sampled_features)\n",
    "X_train, X_test, y_train, y_test = train_test_split(tfidf_features, down_labels, test_size=0.2, random_state=42)\n",
    "\n",
    "clf = LogisticRegression().fit(X_train, y_train)\n",
    "predict(clf, X_test, y_test)"
   ]
  },
  {
   "cell_type": "code",
   "execution_count": 32,
   "metadata": {},
   "outputs": [],
   "source": [
    "# rf = RandomForestClassifier().fit(X_train, y_train)\n",
    "# predict(rf, X_test, y_test)"
   ]
  },
  {
   "cell_type": "code",
   "execution_count": 33,
   "metadata": {},
   "outputs": [
    {
     "name": "stderr",
     "output_type": "stream",
     "text": [
      "/Users/osamaqureshi/anaconda3/lib/python3.7/site-packages/sklearn/linear_model/logistic.py:433: FutureWarning: Default solver will be changed to 'lbfgs' in 0.22. Specify a solver to silence this warning.\n",
      "  FutureWarning)\n"
     ]
    },
    {
     "name": "stdout",
     "output_type": "stream",
     "text": [
      "precision: (array([0.89782498, 0.82679049]), 0.8267904924908999) \n",
      "recall: (array([0.83801317, 0.89020323]), 0.890203228820598) \n",
      "f1: (array([0.86688861, 0.85732587]), 0.8573258676931922) \n",
      "acc: 0.8622730288954575 \n",
      "roc: 0.864108197362257\n"
     ]
    }
   ],
   "source": [
    "#upsample\n",
    "model = TfidfVectorizer(sublinear_tf=True, min_df=5).fit(up_sampled_features)\n",
    "tfidf_features = model.transform(up_sampled_features)\n",
    "X_train, X_test, y_train, y_test = train_test_split(tfidf_features, up_labels, test_size=0.2, random_state=42)\n",
    "\n",
    "clf = LogisticRegression().fit(X_train, y_train)\n",
    "predict(clf, X_test, y_test)"
   ]
  },
  {
   "cell_type": "code",
   "execution_count": 34,
   "metadata": {},
   "outputs": [],
   "source": [
    "# rf = RandomForestClassifier().fit(X_train, y_train)\n",
    "# predict(rf, X_test, y_test)"
   ]
  },
  {
   "cell_type": "code",
   "execution_count": 35,
   "metadata": {},
   "outputs": [
    {
     "name": "stderr",
     "output_type": "stream",
     "text": [
      "/Users/osamaqureshi/anaconda3/lib/python3.7/site-packages/sklearn/linear_model/logistic.py:433: FutureWarning: Default solver will be changed to 'lbfgs' in 0.22. Specify a solver to silence this warning.\n",
      "  FutureWarning)\n"
     ]
    },
    {
     "name": "stdout",
     "output_type": "stream",
     "text": [
      "precision: (array([0.99118142, 0.39572716]), 0.395727159202133) \n",
      "recall: (array([0.94830334, 0.80050522]), 0.8005052229125418) \n",
      "f1: (array([0.96926841, 0.52963231]), 0.5296323064414129) \n",
      "acc: 0.9423062538956991 \n",
      "roc: 0.8744042827043362\n"
     ]
    }
   ],
   "source": [
    "# no sampling\n",
    "model = TfidfVectorizer(sublinear_tf=True, min_df=5).fit(features)\n",
    "tfidf_features = model.transform(features)\n",
    "X_train, X_test, y_train, y_test = train_test_split(tfidf_features, target, test_size=0.2, random_state=42)\n",
    "\n",
    "clf = LogisticRegression().fit(X_train, y_train)\n",
    "predict(clf, X_test, y_test)"
   ]
  },
  {
   "cell_type": "code",
   "execution_count": 36,
   "metadata": {},
   "outputs": [],
   "source": [
    "# rf = RandomForestClassifier().fit(X_train, y_train)\n",
    "# predict(rf, X_test, y_test)"
   ]
  },
  {
   "cell_type": "markdown",
   "metadata": {},
   "source": [
    "## 3. threat"
   ]
  },
  {
   "cell_type": "code",
   "execution_count": 37,
   "metadata": {},
   "outputs": [
    {
     "data": {
      "text/plain": [
       "0    1697945\n",
       "1     106929\n",
       "Name: threat, dtype: int64"
      ]
     },
     "execution_count": 37,
     "metadata": {},
     "output_type": "execute_result"
    }
   ],
   "source": [
    "target = df['threat'].apply(lambda x: 1 if x >0 else 0)\n",
    "target.value_counts()"
   ]
  },
  {
   "cell_type": "code",
   "execution_count": 38,
   "metadata": {},
   "outputs": [],
   "source": [
    "down_sampled_features, down_labels = downsampling(features, target)\n",
    "up_sampled_features, up_labels = upsampling(features, target)"
   ]
  },
  {
   "cell_type": "code",
   "execution_count": 39,
   "metadata": {},
   "outputs": [
    {
     "name": "stderr",
     "output_type": "stream",
     "text": [
      "/Users/osamaqureshi/anaconda3/lib/python3.7/site-packages/sklearn/linear_model/logistic.py:433: FutureWarning: Default solver will be changed to 'lbfgs' in 0.22. Specify a solver to silence this warning.\n",
      "  FutureWarning)\n"
     ]
    },
    {
     "name": "stdout",
     "output_type": "stream",
     "text": [
      "precision: (array([0.82975439, 0.71757723]), 0.7175772304528673) \n",
      "recall: (array([0.7458682, 0.8084031]), 0.8084030958774285) \n",
      "f1: (array([0.78557824, 0.7602872 ]), 0.7602871998019312) \n",
      "acc: 0.773636958758066 \n",
      "roc: 0.7771356494568605\n"
     ]
    }
   ],
   "source": [
    "#downsample\n",
    "model = TfidfVectorizer(sublinear_tf=True, min_df=5).fit(down_sampled_features)\n",
    "tfidf_features = model.transform(down_sampled_features)\n",
    "X_train, X_test, y_train, y_test = train_test_split(tfidf_features, down_labels, test_size=0.2, random_state=42)\n",
    "\n",
    "clf = LogisticRegression().fit(X_train, y_train)\n",
    "predict(clf, X_test, y_test)"
   ]
  },
  {
   "cell_type": "code",
   "execution_count": 40,
   "metadata": {},
   "outputs": [],
   "source": [
    "# rf = RandomForestClassifier().fit(X_train, y_train)\n",
    "# predict(rf, X_test, y_test)"
   ]
  },
  {
   "cell_type": "code",
   "execution_count": 41,
   "metadata": {},
   "outputs": [
    {
     "name": "stderr",
     "output_type": "stream",
     "text": [
      "/Users/osamaqureshi/anaconda3/lib/python3.7/site-packages/sklearn/linear_model/logistic.py:433: FutureWarning: Default solver will be changed to 'lbfgs' in 0.22. Specify a solver to silence this warning.\n",
      "  FutureWarning)\n"
     ]
    },
    {
     "name": "stdout",
     "output_type": "stream",
     "text": [
      "precision: (array([0.85050694, 0.81832455]), 0.8183245456419924) \n",
      "recall: (array([0.82407355, 0.84545975]), 0.8454597466782716) \n",
      "f1: (array([0.83708161, 0.83167087]), 0.8316708677351949) \n",
      "acc: 0.8344204317572124 \n",
      "roc: 0.834766646266594\n"
     ]
    }
   ],
   "source": [
    "#upsample\n",
    "model = TfidfVectorizer(sublinear_tf=True, min_df=5).fit(up_sampled_features)\n",
    "tfidf_features = model.transform(up_sampled_features)\n",
    "X_train, X_test, y_train, y_test = train_test_split(tfidf_features, up_labels, test_size=0.2, random_state=42)\n",
    "\n",
    "clf = LogisticRegression().fit(X_train, y_train)\n",
    "predict(clf, X_test, y_test)"
   ]
  },
  {
   "cell_type": "code",
   "execution_count": 42,
   "metadata": {},
   "outputs": [],
   "source": [
    "# rf = RandomForestClassifier().fit(X_train, y_train)\n",
    "# predict(rf, X_test, y_test)"
   ]
  },
  {
   "cell_type": "code",
   "execution_count": 43,
   "metadata": {},
   "outputs": [
    {
     "name": "stderr",
     "output_type": "stream",
     "text": [
      "/Users/osamaqureshi/anaconda3/lib/python3.7/site-packages/sklearn/linear_model/logistic.py:433: FutureWarning: Default solver will be changed to 'lbfgs' in 0.22. Specify a solver to silence this warning.\n",
      "  FutureWarning)\n"
     ]
    },
    {
     "name": "stdout",
     "output_type": "stream",
     "text": [
      "precision: (array([0.99341243, 0.16289215]), 0.16289214776313346) \n",
      "recall: (array([0.94922149, 0.61085973]), 0.6108597285067874) \n",
      "f1: (array([0.97081433, 0.25719938]), 0.2571993844801055) \n",
      "acc: 0.9438354456679825 \n",
      "roc: 0.7800406083086369\n"
     ]
    }
   ],
   "source": [
    "# no sampling\n",
    "model = TfidfVectorizer(sublinear_tf=True, min_df=5).fit(features)\n",
    "tfidf_features = model.transform(features)\n",
    "X_train, X_test, y_train, y_test = train_test_split(tfidf_features, target, test_size=0.2, random_state=42)\n",
    "\n",
    "clf = LogisticRegression().fit(X_train, y_train)\n",
    "predict(clf, X_test, y_test)"
   ]
  },
  {
   "cell_type": "code",
   "execution_count": 44,
   "metadata": {},
   "outputs": [],
   "source": [
    "# rf = RandomForestClassifier().fit(X_train, y_train)\n",
    "# predict(rf, X_test, y_test)"
   ]
  },
  {
   "cell_type": "markdown",
   "metadata": {},
   "source": [
    "## 4. insult"
   ]
  },
  {
   "cell_type": "code",
   "execution_count": 45,
   "metadata": {},
   "outputs": [
    {
     "data": {
      "text/plain": [
       "0    1350335\n",
       "1     454539\n",
       "Name: insult, dtype: int64"
      ]
     },
     "execution_count": 45,
     "metadata": {},
     "output_type": "execute_result"
    }
   ],
   "source": [
    "target = df['insult'].apply(lambda x: 1 if x >0 else 0)\n",
    "target.value_counts()"
   ]
  },
  {
   "cell_type": "code",
   "execution_count": 46,
   "metadata": {},
   "outputs": [],
   "source": [
    "down_sampled_features, down_labels = downsampling(features, target)\n",
    "up_sampled_features, up_labels = upsampling(features, target)"
   ]
  },
  {
   "cell_type": "code",
   "execution_count": 47,
   "metadata": {},
   "outputs": [
    {
     "name": "stderr",
     "output_type": "stream",
     "text": [
      "/Users/osamaqureshi/anaconda3/lib/python3.7/site-packages/sklearn/linear_model/logistic.py:433: FutureWarning: Default solver will be changed to 'lbfgs' in 0.22. Specify a solver to silence this warning.\n",
      "  FutureWarning)\n"
     ]
    },
    {
     "name": "stdout",
     "output_type": "stream",
     "text": [
      "precision: (array([0.83989403, 0.72175684]), 0.7217568385711927) \n",
      "recall: (array([0.75141371, 0.81823968]), 0.818239676537756) \n",
      "f1: (array([0.79319402, 0.76697587]), 0.7669758682403583) \n",
      "acc: 0.7808663703964448 \n",
      "roc: 0.7848266919218977\n"
     ]
    }
   ],
   "source": [
    "#downsample\n",
    "model = TfidfVectorizer(sublinear_tf=True, min_df=5).fit(down_sampled_features)\n",
    "tfidf_features = model.transform(down_sampled_features)\n",
    "X_train, X_test, y_train, y_test = train_test_split(tfidf_features, down_labels, test_size=0.2, random_state=42)\n",
    "\n",
    "clf = LogisticRegression().fit(X_train, y_train)\n",
    "predict(clf, X_test, y_test)"
   ]
  },
  {
   "cell_type": "code",
   "execution_count": 48,
   "metadata": {},
   "outputs": [],
   "source": [
    "# rf = RandomForestClassifier().fit(X_train, y_train)\n",
    "# predict(rf, X_test, y_test)"
   ]
  },
  {
   "cell_type": "code",
   "execution_count": 49,
   "metadata": {},
   "outputs": [
    {
     "name": "stderr",
     "output_type": "stream",
     "text": [
      "/Users/osamaqureshi/anaconda3/lib/python3.7/site-packages/sklearn/linear_model/logistic.py:433: FutureWarning: Default solver will be changed to 'lbfgs' in 0.22. Specify a solver to silence this warning.\n",
      "  FutureWarning)\n"
     ]
    },
    {
     "name": "stdout",
     "output_type": "stream",
     "text": [
      "precision: (array([0.84495963, 0.74366034]), 0.7436603353278346) \n",
      "recall: (array([0.76700603, 0.82766985]), 0.8276698529320917) \n",
      "f1: (array([0.80409794, 0.78341935]), 0.78341935383272) \n",
      "acc: 0.794276975713434 \n",
      "roc: 0.7973379417256474\n"
     ]
    }
   ],
   "source": [
    "#upsample\n",
    "model = TfidfVectorizer(sublinear_tf=True, min_df=5).fit(up_sampled_features)\n",
    "tfidf_features = model.transform(up_sampled_features)\n",
    "X_train, X_test, y_train, y_test = train_test_split(tfidf_features, up_labels, test_size=0.2, random_state=42)\n",
    "\n",
    "clf = LogisticRegression().fit(X_train, y_train)\n",
    "predict(clf, X_test, y_test)"
   ]
  },
  {
   "cell_type": "code",
   "execution_count": 50,
   "metadata": {},
   "outputs": [],
   "source": [
    "# rf = RandomForestClassifier().fit(X_train, y_train)\n",
    "# predict(rf, X_test, y_test)"
   ]
  },
  {
   "cell_type": "code",
   "execution_count": 51,
   "metadata": {},
   "outputs": [
    {
     "name": "stderr",
     "output_type": "stream",
     "text": [
      "/Users/osamaqureshi/anaconda3/lib/python3.7/site-packages/sklearn/linear_model/logistic.py:433: FutureWarning: Default solver will be changed to 'lbfgs' in 0.22. Specify a solver to silence this warning.\n",
      "  FutureWarning)\n"
     ]
    },
    {
     "name": "stdout",
     "output_type": "stream",
     "text": [
      "precision: (array([0.95297012, 0.49362897]), 0.4936289723302881) \n",
      "recall: (array([0.8471387 , 0.78091073]), 0.78091072539935) \n",
      "f1: (array([0.89694341, 0.60489314]), 0.6048931383577053) \n",
      "acc: 0.8365260752129648 \n",
      "roc: 0.814024710605366\n"
     ]
    }
   ],
   "source": [
    "# no sampling\n",
    "model = TfidfVectorizer(sublinear_tf=True, min_df=5).fit(features)\n",
    "tfidf_features = model.transform(features)\n",
    "X_train, X_test, y_train, y_test = train_test_split(tfidf_features, target, test_size=0.2, random_state=42)\n",
    "\n",
    "clf = LogisticRegression().fit(X_train, y_train)\n",
    "predict(clf, X_test, y_test)"
   ]
  },
  {
   "cell_type": "code",
   "execution_count": 52,
   "metadata": {},
   "outputs": [],
   "source": [
    "# rf = RandomForestClassifier().fit(X_train, y_train)\n",
    "# predict(rf, X_test, y_test)"
   ]
  },
  {
   "cell_type": "markdown",
   "metadata": {},
   "source": [
    "## 5. identity_attack"
   ]
  },
  {
   "cell_type": "code",
   "execution_count": 53,
   "metadata": {},
   "outputs": [
    {
     "data": {
      "text/plain": [
       "0    1586322\n",
       "1     218552\n",
       "Name: identity_attack, dtype: int64"
      ]
     },
     "execution_count": 53,
     "metadata": {},
     "output_type": "execute_result"
    }
   ],
   "source": [
    "target = df['identity_attack'].apply(lambda x: 1 if x >0 else 0)\n",
    "target.value_counts()"
   ]
  },
  {
   "cell_type": "code",
   "execution_count": 54,
   "metadata": {},
   "outputs": [],
   "source": [
    "down_sampled_features, down_labels = downsampling(features, target)\n",
    "up_sampled_features, up_labels = upsampling(features, target)"
   ]
  },
  {
   "cell_type": "code",
   "execution_count": 55,
   "metadata": {},
   "outputs": [
    {
     "name": "stderr",
     "output_type": "stream",
     "text": [
      "/Users/osamaqureshi/anaconda3/lib/python3.7/site-packages/sklearn/linear_model/logistic.py:433: FutureWarning: Default solver will be changed to 'lbfgs' in 0.22. Specify a solver to silence this warning.\n",
      "  FutureWarning)\n"
     ]
    },
    {
     "name": "stdout",
     "output_type": "stream",
     "text": [
      "precision: (array([0.83483806, 0.75424777]), 0.7542477673460041) \n",
      "recall: (array([0.77290137, 0.82008764]), 0.8200876406732397) \n",
      "f1: (array([0.80267669, 0.78579097]), 0.7857909678650666) \n",
      "acc: 0.7945802495967788 \n",
      "roc: 0.796494504891289\n"
     ]
    }
   ],
   "source": [
    "#downsample\n",
    "model = TfidfVectorizer(sublinear_tf=True, min_df=5).fit(down_sampled_features)\n",
    "tfidf_features = model.transform(down_sampled_features)\n",
    "X_train, X_test, y_train, y_test = train_test_split(tfidf_features, down_labels, test_size=0.2, random_state=42)\n",
    "\n",
    "clf = LogisticRegression().fit(X_train, y_train)\n",
    "predict(clf, X_test, y_test)"
   ]
  },
  {
   "cell_type": "code",
   "execution_count": 56,
   "metadata": {},
   "outputs": [],
   "source": [
    "# rf = RandomForestClassifier().fit(X_train, y_train)\n",
    "# predict(rf, X_test, y_test)"
   ]
  },
  {
   "cell_type": "code",
   "execution_count": 57,
   "metadata": {},
   "outputs": [
    {
     "name": "stderr",
     "output_type": "stream",
     "text": [
      "/Users/osamaqureshi/anaconda3/lib/python3.7/site-packages/sklearn/linear_model/logistic.py:433: FutureWarning: Default solver will be changed to 'lbfgs' in 0.22. Specify a solver to silence this warning.\n",
      "  FutureWarning)\n"
     ]
    },
    {
     "name": "stdout",
     "output_type": "stream",
     "text": [
      "precision: (array([0.84651333, 0.80416245]), 0.8041624471176142) \n",
      "recall: (array([0.81239574, 0.83948149]), 0.8394814929472634) \n",
      "f1: (array([0.8291037, 0.8214425]), 0.8214424976394498) \n",
      "acc: 0.8253570758783286 \n",
      "roc: 0.8259386140300253\n"
     ]
    }
   ],
   "source": [
    "#upsample\n",
    "model = TfidfVectorizer(sublinear_tf=True, min_df=5).fit(up_sampled_features)\n",
    "tfidf_features = model.transform(up_sampled_features)\n",
    "X_train, X_test, y_train, y_test = train_test_split(tfidf_features, up_labels, test_size=0.2, random_state=42)\n",
    "\n",
    "clf = LogisticRegression().fit(X_train, y_train)\n",
    "predict(clf, X_test, y_test)"
   ]
  },
  {
   "cell_type": "code",
   "execution_count": 58,
   "metadata": {},
   "outputs": [],
   "source": [
    "# rf = RandomForestClassifier().fit(X_train, y_train)\n",
    "# predict(rf, X_test, y_test)"
   ]
  },
  {
   "cell_type": "code",
   "execution_count": 59,
   "metadata": {},
   "outputs": [
    {
     "name": "stderr",
     "output_type": "stream",
     "text": [
      "/Users/osamaqureshi/anaconda3/lib/python3.7/site-packages/sklearn/linear_model/logistic.py:433: FutureWarning: Default solver will be changed to 'lbfgs' in 0.22. Specify a solver to silence this warning.\n",
      "  FutureWarning)\n"
     ]
    },
    {
     "name": "stdout",
     "output_type": "stream",
     "text": [
      "precision: (array([0.97983395, 0.33689742]), 0.336897422481061) \n",
      "recall: (array([0.91421331, 0.69847184]), 0.6984718422790303) \n",
      "f1: (array([0.9458869 , 0.45454964]), 0.45454964011111276) \n",
      "acc: 0.9015416580095574 \n",
      "roc: 0.8063425776425333\n"
     ]
    }
   ],
   "source": [
    "# no sampling\n",
    "model = TfidfVectorizer(sublinear_tf=True, min_df=5).fit(features)\n",
    "tfidf_features = model.transform(features)\n",
    "X_train, X_test, y_train, y_test = train_test_split(tfidf_features, target, test_size=0.2, random_state=42)\n",
    "\n",
    "clf = LogisticRegression().fit(X_train, y_train)\n",
    "predict(clf, X_test, y_test)"
   ]
  },
  {
   "cell_type": "code",
   "execution_count": 60,
   "metadata": {},
   "outputs": [],
   "source": [
    "# rf = RandomForestClassifier().fit(X_train, y_train)\n",
    "# predict(rf, X_test, y_test)"
   ]
  },
  {
   "cell_type": "markdown",
   "metadata": {},
   "source": [
    "# Preprocess - No Punct, Lemma"
   ]
  },
  {
   "cell_type": "markdown",
   "metadata": {},
   "source": [
    "1\\. Tokenize        \n",
    "2\\. Lower        \n",
    "3\\. Lemmatize        \n",
    "4\\. Encode        \n",
    "* How to deal with punctuation?      \n",
    "* Analyze if lemmatizer or stemmer is better?"
   ]
  },
  {
   "cell_type": "code",
   "execution_count": 61,
   "metadata": {},
   "outputs": [],
   "source": [
    "stopwords = nltk.corpus.stopwords.words('english')\n",
    "punctuation = '[\"!?#$%&\\'()+,-./:;<=>@[\\\\]^_`{|}~]'\n",
    "wn = nltk.WordNetLemmatizer()"
   ]
  },
  {
   "cell_type": "code",
   "execution_count": 62,
   "metadata": {},
   "outputs": [],
   "source": [
    "def clean_text(comment):\n",
    "    comment = re.sub(punctuation, '', comment)\n",
    "    comment = ' '.join([ps.stem(token) for token in word_tokenize(comment.lower()) if token not in stopwords])\n",
    "    return comment"
   ]
  },
  {
   "cell_type": "code",
   "execution_count": 63,
   "metadata": {},
   "outputs": [
    {
     "name": "stdout",
     "output_type": "stream",
     "text": [
      "0\n",
      "100000\n",
      "200000\n",
      "300000\n",
      "400000\n",
      "500000\n",
      "600000\n",
      "700000\n",
      "800000\n",
      "900000\n",
      "1000000\n",
      "1100000\n",
      "1200000\n",
      "1300000\n",
      "1400000\n",
      "1500000\n",
      "1600000\n",
      "1700000\n",
      "1800000\n"
     ]
    }
   ],
   "source": [
    "features = []\n",
    "for i,row in enumerate(data):\n",
    "    features += [clean_text(row)]\n",
    "    \n",
    "    if i % 100000 == 0: print(i)\n",
    "        \n",
    "features = np.array(features)"
   ]
  },
  {
   "cell_type": "markdown",
   "metadata": {},
   "source": [
    "## 0. Target"
   ]
  },
  {
   "cell_type": "code",
   "execution_count": null,
   "metadata": {},
   "outputs": [],
   "source": [
    "target = df['target'].apply(lambda x: 1 if x >0 else 0)\n",
    "target.value_counts()"
   ]
  },
  {
   "cell_type": "code",
   "execution_count": null,
   "metadata": {},
   "outputs": [],
   "source": [
    "down_sampled_features, down_labels = downsampling(features, target)\n",
    "up_sampled_features, up_labels = upsampling(features, target)"
   ]
  },
  {
   "cell_type": "code",
   "execution_count": null,
   "metadata": {},
   "outputs": [],
   "source": [
    "#downsample\n",
    "model = TfidfVectorizer(sublinear_tf=True, min_df=5).fit(down_sampled_features)\n",
    "tfidf_features = model.transform(down_sampled_features)\n",
    "X_train, X_test, y_train, y_test = train_test_split(tfidf_features, down_labels, test_size=0.2, random_state=42)\n",
    "\n",
    "clf = LogisticRegression().fit(X_train, y_train)\n",
    "predict(clf, X_test, y_test)"
   ]
  },
  {
   "cell_type": "code",
   "execution_count": null,
   "metadata": {},
   "outputs": [],
   "source": [
    "#upsample\n",
    "model = TfidfVectorizer(sublinear_tf=True, min_df=5).fit(up_sampled_features)\n",
    "tfidf_features = model.transform(up_sampled_features)\n",
    "X_train, X_test, y_train, y_test = train_test_split(tfidf_features, up_labels, test_size=0.2, random_state=42)\n",
    "\n",
    "clf = LogisticRegression().fit(X_train, y_train)\n",
    "rf = RandomForestClassifier().fit(X_train, y_train)\n",
    "\n",
    "predict(clf, X_test, y_test)\n",
    "predict(rf, X_test, y_test)"
   ]
  },
  {
   "cell_type": "code",
   "execution_count": null,
   "metadata": {},
   "outputs": [],
   "source": [
    "# no sampling\n",
    "model = TfidfVectorizer(sublinear_tf=True, min_df=5).fit(features)\n",
    "tfidf_features = model.transform(features)\n",
    "X_train, X_test, y_train, y_test = train_test_split(tfidf_features, target, test_size=0.2, random_state=42)\n",
    "\n",
    "clf = LogisticRegression().fit(X_train, y_train)\n",
    "rf = RandomForestClassifier().fit(X_train, y_train)\n",
    "\n",
    "predict(clf, X_test, y_test)\n",
    "predict(rf, X_test, y_test)"
   ]
  },
  {
   "cell_type": "markdown",
   "metadata": {},
   "source": [
    "## 1. severe_toxic"
   ]
  },
  {
   "cell_type": "code",
   "execution_count": null,
   "metadata": {},
   "outputs": [],
   "source": [
    "target = df['severe_toxicity'].apply(lambda x: 1 if x >0 else 0)\n",
    "target.value_counts()"
   ]
  },
  {
   "cell_type": "code",
   "execution_count": null,
   "metadata": {},
   "outputs": [],
   "source": [
    "down_sampled_features, down_labels = downsampling(features, target)\n",
    "up_sampled_features, up_labels = upsampling(features, target)"
   ]
  },
  {
   "cell_type": "code",
   "execution_count": null,
   "metadata": {},
   "outputs": [],
   "source": [
    "#downsample\n",
    "model = TfidfVectorizer(sublinear_tf=True, min_df=5).fit(down_sampled_features)\n",
    "tfidf_features = model.transform(down_sampled_features)\n",
    "X_train, X_test, y_train, y_test = train_test_split(tfidf_features, down_labels, test_size=0.2, random_state=42)\n",
    "\n",
    "clf = LogisticRegression().fit(X_train, y_train)\n",
    "rf = RandomForestClassifier().fit(X_train, y_train)\n",
    "predict(clf, X_test, y_test)\n",
    "predict(rf, X_test, y_test)"
   ]
  },
  {
   "cell_type": "code",
   "execution_count": null,
   "metadata": {},
   "outputs": [],
   "source": [
    "#upsample\n",
    "model = TfidfVectorizer(sublinear_tf=True, min_df=5).fit(up_sampled_features)\n",
    "tfidf_features = model.transform(up_sampled_features)\n",
    "X_train, X_test, y_train, y_test = train_test_split(tfidf_features, up_labels, test_size=0.2, random_state=42)\n",
    "\n",
    "clf = LogisticRegression().fit(X_train, y_train)\n",
    "rf = RandomForestClassifier().fit(X_train, y_train)\n",
    "\n",
    "predict(clf, X_test, y_test)\n",
    "predict(rf, X_test, y_test)"
   ]
  },
  {
   "cell_type": "code",
   "execution_count": null,
   "metadata": {},
   "outputs": [],
   "source": [
    "# no sampling\n",
    "model = TfidfVectorizer(sublinear_tf=True, min_df=5).fit(features)\n",
    "tfidf_features = model.transform(features)\n",
    "X_train, X_test, y_train, y_test = train_test_split(tfidf_features, target, test_size=0.2, random_state=42)\n",
    "\n",
    "clf = LogisticRegression().fit(X_train, y_train)\n",
    "rf = RandomForestClassifier().fit(X_train, y_train)\n",
    "\n",
    "predict(clf, X_test, y_test)\n",
    "predict(rf, X_test, y_test)"
   ]
  },
  {
   "cell_type": "markdown",
   "metadata": {},
   "source": [
    "## 2. obscene"
   ]
  },
  {
   "cell_type": "code",
   "execution_count": null,
   "metadata": {},
   "outputs": [],
   "source": [
    "target = df['obscene'].apply(lambda x: 1 if x >0 else 0)\n",
    "target.value_counts()"
   ]
  },
  {
   "cell_type": "code",
   "execution_count": null,
   "metadata": {},
   "outputs": [],
   "source": [
    "down_sampled_features, down_labels = downsampling(features, target)\n",
    "up_sampled_features, up_labels = upsampling(features, target)"
   ]
  },
  {
   "cell_type": "code",
   "execution_count": null,
   "metadata": {},
   "outputs": [],
   "source": [
    "#downsample\n",
    "model = TfidfVectorizer(sublinear_tf=True, min_df=5).fit(down_sampled_features)\n",
    "tfidf_features = model.transform(down_sampled_features)\n",
    "X_train, X_test, y_train, y_test = train_test_split(tfidf_features, down_labels, test_size=0.2, random_state=42)\n",
    "\n",
    "clf = LogisticRegression().fit(X_train, y_train)\n",
    "rf = RandomForestClassifier().fit(X_train, y_train)\n",
    "predict(clf, X_test, y_test)\n",
    "predict(rf, X_test, y_test)"
   ]
  },
  {
   "cell_type": "code",
   "execution_count": null,
   "metadata": {},
   "outputs": [],
   "source": [
    "#upsample\n",
    "model = TfidfVectorizer(sublinear_tf=True, min_df=5).fit(up_sampled_features)\n",
    "tfidf_features = model.transform(up_sampled_features)\n",
    "X_train, X_test, y_train, y_test = train_test_split(tfidf_features, up_labels, test_size=0.2, random_state=42)\n",
    "\n",
    "clf = LogisticRegression().fit(X_train, y_train)\n",
    "rf = RandomForestClassifier().fit(X_train, y_train)\n",
    "\n",
    "predict(clf, X_test, y_test)\n",
    "predict(rf, X_test, y_test)"
   ]
  },
  {
   "cell_type": "code",
   "execution_count": null,
   "metadata": {},
   "outputs": [],
   "source": [
    "# no sampling\n",
    "model = TfidfVectorizer(sublinear_tf=True, min_df=5).fit(features)\n",
    "tfidf_features = model.transform(features)\n",
    "X_train, X_test, y_train, y_test = train_test_split(tfidf_features, target, test_size=0.2, random_state=42)\n",
    "\n",
    "clf = LogisticRegression().fit(X_train, y_train)\n",
    "rf = RandomForestClassifier().fit(X_train, y_train)\n",
    "\n",
    "predict(clf, X_test, y_test)\n",
    "predict(rf, X_test, y_test)"
   ]
  },
  {
   "cell_type": "markdown",
   "metadata": {},
   "source": [
    "## 3. threat"
   ]
  },
  {
   "cell_type": "code",
   "execution_count": null,
   "metadata": {},
   "outputs": [],
   "source": [
    "target = df['threat'].apply(lambda x: 1 if x >0 else 0)\n",
    "target.value_counts()"
   ]
  },
  {
   "cell_type": "code",
   "execution_count": null,
   "metadata": {},
   "outputs": [],
   "source": [
    "down_sampled_features, down_labels = downsampling(features, target)\n",
    "up_sampled_features, up_labels = upsampling(features, target)"
   ]
  },
  {
   "cell_type": "code",
   "execution_count": null,
   "metadata": {},
   "outputs": [],
   "source": [
    "#downsample\n",
    "model = TfidfVectorizer(sublinear_tf=True, min_df=5).fit(down_sampled_features)\n",
    "tfidf_features = model.transform(down_sampled_features)\n",
    "X_train, X_test, y_train, y_test = train_test_split(tfidf_features, down_labels, test_size=0.2, random_state=42)\n",
    "\n",
    "clf = LogisticRegression().fit(X_train, y_train)\n",
    "rf = RandomForestClassifier().fit(X_train, y_train)\n",
    "predict(clf, X_test, y_test)\n",
    "predict(rf, X_test, y_test)"
   ]
  },
  {
   "cell_type": "code",
   "execution_count": null,
   "metadata": {},
   "outputs": [],
   "source": [
    "#upsample\n",
    "model = TfidfVectorizer(sublinear_tf=True, min_df=5).fit(up_sampled_features)\n",
    "tfidf_features = model.transform(up_sampled_features)\n",
    "X_train, X_test, y_train, y_test = train_test_split(tfidf_features, up_labels, test_size=0.2, random_state=42)\n",
    "\n",
    "clf = LogisticRegression().fit(X_train, y_train)\n",
    "rf = RandomForestClassifier().fit(X_train, y_train)\n",
    "\n",
    "predict(clf, X_test, y_test)\n",
    "predict(rf, X_test, y_test)"
   ]
  },
  {
   "cell_type": "code",
   "execution_count": null,
   "metadata": {},
   "outputs": [],
   "source": [
    "# no sampling\n",
    "model = TfidfVectorizer(sublinear_tf=True, min_df=5).fit(features)\n",
    "tfidf_features = model.transform(features)\n",
    "X_train, X_test, y_train, y_test = train_test_split(tfidf_features, target, test_size=0.2, random_state=42)\n",
    "\n",
    "clf = LogisticRegression().fit(X_train, y_train)\n",
    "rf = RandomForestClassifier().fit(X_train, y_train)\n",
    "\n",
    "predict(clf, X_test, y_test)\n",
    "predict(rf, X_test, y_test)"
   ]
  },
  {
   "cell_type": "markdown",
   "metadata": {},
   "source": [
    "## 4. insult"
   ]
  },
  {
   "cell_type": "code",
   "execution_count": null,
   "metadata": {},
   "outputs": [],
   "source": [
    "target = df['insult'].apply(lambda x: 1 if x >0 else 0)\n",
    "target.value_counts()"
   ]
  },
  {
   "cell_type": "code",
   "execution_count": null,
   "metadata": {},
   "outputs": [],
   "source": [
    "down_sampled_features, down_labels = downsampling(features, target)\n",
    "up_sampled_features, up_labels = upsampling(features, target)"
   ]
  },
  {
   "cell_type": "code",
   "execution_count": null,
   "metadata": {},
   "outputs": [],
   "source": [
    "#downsample\n",
    "model = TfidfVectorizer(sublinear_tf=True, min_df=5).fit(down_sampled_features)\n",
    "tfidf_features = model.transform(down_sampled_features)\n",
    "X_train, X_test, y_train, y_test = train_test_split(tfidf_features, down_labels, test_size=0.2, random_state=42)\n",
    "\n",
    "clf = LogisticRegression().fit(X_train, y_train)\n",
    "rf = RandomForestClassifier().fit(X_train, y_train)\n",
    "predict(clf, X_test, y_test)\n",
    "predict(rf, X_test, y_test)"
   ]
  },
  {
   "cell_type": "code",
   "execution_count": null,
   "metadata": {},
   "outputs": [],
   "source": [
    "#upsample\n",
    "model = TfidfVectorizer(sublinear_tf=True, min_df=5).fit(up_sampled_features)\n",
    "tfidf_features = model.transform(up_sampled_features)\n",
    "X_train, X_test, y_train, y_test = train_test_split(tfidf_features, up_labels, test_size=0.2, random_state=42)\n",
    "\n",
    "clf = LogisticRegression().fit(X_train, y_train)\n",
    "rf = RandomForestClassifier().fit(X_train, y_train)\n",
    "\n",
    "predict(clf, X_test, y_test)\n",
    "predict(rf, X_test, y_test)"
   ]
  },
  {
   "cell_type": "code",
   "execution_count": null,
   "metadata": {},
   "outputs": [],
   "source": [
    "# no sampling\n",
    "model = TfidfVectorizer(sublinear_tf=True, min_df=5).fit(features)\n",
    "tfidf_features = model.transform(features)\n",
    "X_train, X_test, y_train, y_test = train_test_split(tfidf_features, target, test_size=0.2, random_state=42)\n",
    "\n",
    "clf = LogisticRegression().fit(X_train, y_train)\n",
    "rf = RandomForestClassifier().fit(X_train, y_train)\n",
    "\n",
    "predict(clf, X_test, y_test)\n",
    "predict(rf, X_test, y_test)"
   ]
  },
  {
   "cell_type": "markdown",
   "metadata": {},
   "source": [
    "## 5. identity_attack"
   ]
  },
  {
   "cell_type": "code",
   "execution_count": null,
   "metadata": {},
   "outputs": [],
   "source": [
    "target = df['identity_attack'].apply(lambda x: 1 if x >0 else 0)\n",
    "target.value_counts()"
   ]
  },
  {
   "cell_type": "code",
   "execution_count": null,
   "metadata": {},
   "outputs": [],
   "source": [
    "down_sampled_features, down_labels = downsampling(features, target)\n",
    "up_sampled_features, up_labels = upsampling(features, target)"
   ]
  },
  {
   "cell_type": "code",
   "execution_count": null,
   "metadata": {},
   "outputs": [],
   "source": [
    "#downsample\n",
    "model = TfidfVectorizer(sublinear_tf=True, min_df=5).fit(down_sampled_features)\n",
    "tfidf_features = model.transform(down_sampled_features)\n",
    "X_train, X_test, y_train, y_test = train_test_split(tfidf_features, down_labels, test_size=0.2, random_state=42)\n",
    "\n",
    "clf = LogisticRegression().fit(X_train, y_train)\n",
    "rf = RandomForestClassifier().fit(X_train, y_train)\n",
    "predict(clf, X_test, y_test)\n",
    "predict(rf, X_test, y_test)"
   ]
  },
  {
   "cell_type": "code",
   "execution_count": null,
   "metadata": {},
   "outputs": [],
   "source": [
    "#upsample\n",
    "model = TfidfVectorizer(sublinear_tf=True, min_df=5).fit(up_sampled_features)\n",
    "tfidf_features = model.transform(up_sampled_features)\n",
    "X_train, X_test, y_train, y_test = train_test_split(tfidf_features, up_labels, test_size=0.2, random_state=42)\n",
    "\n",
    "clf = LogisticRegression().fit(X_train, y_train)\n",
    "rf = RandomForestClassifier().fit(X_train, y_train)\n",
    "\n",
    "predict(clf, X_test, y_test)\n",
    "predict(rf, X_test, y_test)"
   ]
  },
  {
   "cell_type": "code",
   "execution_count": null,
   "metadata": {},
   "outputs": [],
   "source": [
    "# no sampling\n",
    "model = TfidfVectorizer(sublinear_tf=True, min_df=5).fit(features)\n",
    "tfidf_features = model.transform(features)\n",
    "X_train, X_test, y_train, y_test = train_test_split(tfidf_features, target, test_size=0.2, random_state=42)\n",
    "\n",
    "clf = LogisticRegression().fit(X_train, y_train)\n",
    "rf = RandomForestClassifier().fit(X_train, y_train)\n",
    "\n",
    "predict(clf, X_test, y_test)\n",
    "predict(rf, X_test, y_test)"
   ]
  },
  {
   "cell_type": "markdown",
   "metadata": {},
   "source": [
    "## 0. Target"
   ]
  },
  {
   "cell_type": "code",
   "execution_count": 64,
   "metadata": {},
   "outputs": [
    {
     "data": {
      "text/plain": [
       "0    1264764\n",
       "1     540110\n",
       "Name: target, dtype: int64"
      ]
     },
     "execution_count": 64,
     "metadata": {},
     "output_type": "execute_result"
    }
   ],
   "source": [
    "target = df['target'].apply(lambda x: 1 if x >0 else 0)\n",
    "target.value_counts()"
   ]
  },
  {
   "cell_type": "code",
   "execution_count": 65,
   "metadata": {},
   "outputs": [],
   "source": [
    "down_sampled_features, down_labels = downsampling(features, target)\n",
    "up_sampled_features, up_labels = upsampling(features, target)"
   ]
  },
  {
   "cell_type": "code",
   "execution_count": 66,
   "metadata": {},
   "outputs": [
    {
     "name": "stderr",
     "output_type": "stream",
     "text": [
      "/Users/osamaqureshi/anaconda3/lib/python3.7/site-packages/sklearn/linear_model/logistic.py:433: FutureWarning: Default solver will be changed to 'lbfgs' in 0.22. Specify a solver to silence this warning.\n",
      "  FutureWarning)\n"
     ]
    },
    {
     "name": "stdout",
     "output_type": "stream",
     "text": [
      "precision: (array([0.82472253, 0.70527408]), 0.7052740817612394) \n",
      "recall: (array([0.73707399, 0.80065638]), 0.8006563791852063) \n",
      "f1: (array([0.77843883, 0.74994458]), 0.7499445788236917) \n",
      "acc: 0.7650524893077336 \n",
      "roc: 0.7688651842279471\n"
     ]
    }
   ],
   "source": [
    "#downsample\n",
    "model = TfidfVectorizer(sublinear_tf=True, min_df=5).fit(down_sampled_features)\n",
    "tfidf_features = model.transform(down_sampled_features)\n",
    "X_train, X_test, y_train, y_test = train_test_split(tfidf_features, down_labels, test_size=0.2, random_state=42)\n",
    "\n",
    "clf = LogisticRegression().fit(X_train, y_train)\n",
    "predict(clf, X_test, y_test)"
   ]
  },
  {
   "cell_type": "code",
   "execution_count": 67,
   "metadata": {},
   "outputs": [],
   "source": [
    "# rf = RandomForestClassifier().fit(X_train, y_train)\n",
    "# predict(rf, X_test, y_test)"
   ]
  },
  {
   "cell_type": "code",
   "execution_count": 68,
   "metadata": {},
   "outputs": [
    {
     "name": "stderr",
     "output_type": "stream",
     "text": [
      "/Users/osamaqureshi/anaconda3/lib/python3.7/site-packages/sklearn/linear_model/logistic.py:433: FutureWarning: Default solver will be changed to 'lbfgs' in 0.22. Specify a solver to silence this warning.\n",
      "  FutureWarning)\n"
     ]
    },
    {
     "name": "stdout",
     "output_type": "stream",
     "text": [
      "precision: (array([0.82787874, 0.71718082]), 0.7171808222535868) \n",
      "recall: (array([0.74538906, 0.80643627]), 0.8064362685824027) \n",
      "f1: (array([0.78447134, 0.7591942 ]), 0.7591941960689123) \n",
      "acc: 0.7725328420694754 \n",
      "roc: 0.7759126623768501\n"
     ]
    }
   ],
   "source": [
    "#upsample\n",
    "model = TfidfVectorizer(sublinear_tf=True, min_df=5).fit(up_sampled_features)\n",
    "tfidf_features = model.transform(up_sampled_features)\n",
    "X_train, X_test, y_train, y_test = train_test_split(tfidf_features, up_labels, test_size=0.2, random_state=42)\n",
    "\n",
    "clf = LogisticRegression().fit(X_train, y_train)\n",
    "predict(clf, X_test, y_test)"
   ]
  },
  {
   "cell_type": "code",
   "execution_count": 69,
   "metadata": {},
   "outputs": [],
   "source": [
    "# rf = RandomForestClassifier().fit(X_train, y_train)\n",
    "# predict(rf, X_test, y_test)"
   ]
  },
  {
   "cell_type": "code",
   "execution_count": 70,
   "metadata": {},
   "outputs": [
    {
     "name": "stderr",
     "output_type": "stream",
     "text": [
      "/Users/osamaqureshi/anaconda3/lib/python3.7/site-packages/sklearn/linear_model/logistic.py:433: FutureWarning: Default solver will be changed to 'lbfgs' in 0.22. Specify a solver to silence this warning.\n",
      "  FutureWarning)\n"
     ]
    },
    {
     "name": "stdout",
     "output_type": "stream",
     "text": [
      "precision: (array([0.93311222, 0.50808382]), 0.5080838213088793) \n",
      "recall: (array([0.81507108, 0.76576377]), 0.7657637655417406) \n",
      "f1: (array([0.87010645, 0.61086143]), 0.6108614315127631) \n",
      "acc: 0.8052275088302514 \n",
      "roc: 0.7904174213969524\n"
     ]
    }
   ],
   "source": [
    "# no sampling\n",
    "model = TfidfVectorizer(sublinear_tf=True, min_df=5).fit(features)\n",
    "tfidf_features = model.transform(features)\n",
    "X_train, X_test, y_train, y_test = train_test_split(tfidf_features, target, test_size=0.2, random_state=42)\n",
    "\n",
    "clf = LogisticRegression().fit(X_train, y_train)\n",
    "predict(clf, X_test, y_test)"
   ]
  },
  {
   "cell_type": "code",
   "execution_count": 71,
   "metadata": {},
   "outputs": [],
   "source": [
    "# rf = RandomForestClassifier().fit(X_train, y_train)\n",
    "# predict(rf, X_test, y_test)"
   ]
  },
  {
   "cell_type": "markdown",
   "metadata": {},
   "source": [
    "## 1. severe_toxic"
   ]
  },
  {
   "cell_type": "code",
   "execution_count": 72,
   "metadata": {},
   "outputs": [
    {
     "data": {
      "text/plain": [
       "0    1700238\n",
       "1     104636\n",
       "Name: severe_toxicity, dtype: int64"
      ]
     },
     "execution_count": 72,
     "metadata": {},
     "output_type": "execute_result"
    }
   ],
   "source": [
    "target = df['severe_toxicity'].apply(lambda x: 1 if x >0 else 0)\n",
    "target.value_counts()"
   ]
  },
  {
   "cell_type": "code",
   "execution_count": 73,
   "metadata": {},
   "outputs": [],
   "source": [
    "down_sampled_features, down_labels = downsampling(features, target)\n",
    "up_sampled_features, up_labels = upsampling(features, target)"
   ]
  },
  {
   "cell_type": "code",
   "execution_count": 74,
   "metadata": {},
   "outputs": [
    {
     "name": "stderr",
     "output_type": "stream",
     "text": [
      "/Users/osamaqureshi/anaconda3/lib/python3.7/site-packages/sklearn/linear_model/logistic.py:433: FutureWarning: Default solver will be changed to 'lbfgs' in 0.22. Specify a solver to silence this warning.\n",
      "  FutureWarning)\n"
     ]
    },
    {
     "name": "stdout",
     "output_type": "stream",
     "text": [
      "precision: (array([0.85440229, 0.76191388]), 0.7619138755980861) \n",
      "recall: (array([0.78251748, 0.83920949]), 0.8392094861660079) \n",
      "f1: (array([0.81688149, 0.79869592]), 0.7986959247648903) \n",
      "acc: 0.8082188507944092 \n",
      "roc: 0.8108634843417452\n"
     ]
    }
   ],
   "source": [
    "#downsample\n",
    "model = TfidfVectorizer(sublinear_tf=True, min_df=5).fit(down_sampled_features)\n",
    "tfidf_features = model.transform(down_sampled_features)\n",
    "X_train, X_test, y_train, y_test = train_test_split(tfidf_features, down_labels, test_size=0.2, random_state=42)\n",
    "\n",
    "clf = LogisticRegression().fit(X_train, y_train)\n",
    "predict(clf, X_test, y_test)"
   ]
  },
  {
   "cell_type": "code",
   "execution_count": 75,
   "metadata": {},
   "outputs": [],
   "source": [
    "# rf = RandomForestClassifier().fit(X_train, y_train)\n",
    "# predict(rf, X_test, y_test)"
   ]
  },
  {
   "cell_type": "code",
   "execution_count": 76,
   "metadata": {},
   "outputs": [
    {
     "name": "stderr",
     "output_type": "stream",
     "text": [
      "/Users/osamaqureshi/anaconda3/lib/python3.7/site-packages/sklearn/linear_model/logistic.py:433: FutureWarning: Default solver will be changed to 'lbfgs' in 0.22. Specify a solver to silence this warning.\n",
      "  FutureWarning)\n"
     ]
    },
    {
     "name": "stdout",
     "output_type": "stream",
     "text": [
      "precision: (array([0.87393789, 0.83397653]), 0.8339765273406478) \n",
      "recall: (array([0.84041765, 0.86863825]), 0.8686382519822061) \n",
      "f1: (array([0.85685007, 0.85095457]), 0.8509545690558156) \n",
      "acc: 0.8539617936291347 \n",
      "roc: 0.8545279517491071\n"
     ]
    }
   ],
   "source": [
    "#upsample\n",
    "model = TfidfVectorizer(sublinear_tf=True, min_df=5).fit(up_sampled_features)\n",
    "tfidf_features = model.transform(up_sampled_features)\n",
    "X_train, X_test, y_train, y_test = train_test_split(tfidf_features, up_labels, test_size=0.2, random_state=42)\n",
    "\n",
    "clf = LogisticRegression().fit(X_train, y_train)\n",
    "predict(clf, X_test, y_test)"
   ]
  },
  {
   "cell_type": "code",
   "execution_count": 77,
   "metadata": {},
   "outputs": [],
   "source": [
    "# rf = RandomForestClassifier().fit(X_train, y_train)\n",
    "# predict(rf, X_test, y_test)"
   ]
  },
  {
   "cell_type": "code",
   "execution_count": 78,
   "metadata": {},
   "outputs": [
    {
     "name": "stderr",
     "output_type": "stream",
     "text": [
      "/Users/osamaqureshi/anaconda3/lib/python3.7/site-packages/sklearn/linear_model/logistic.py:433: FutureWarning: Default solver will be changed to 'lbfgs' in 0.22. Specify a solver to silence this warning.\n",
      "  FutureWarning)\n"
     ]
    },
    {
     "name": "stdout",
     "output_type": "stream",
     "text": [
      "precision: (array([0.99331335, 0.28212317]), 0.282123170499905) \n",
      "recall: (array([0.95717546, 0.72314251]), 0.723142509135201) \n",
      "f1: (array([0.97490963, 0.40589321]), 0.4058932111847952) \n",
      "acc: 0.9518526213726712 \n",
      "roc: 0.840158982942014\n"
     ]
    }
   ],
   "source": [
    "# no sampling\n",
    "model = TfidfVectorizer(sublinear_tf=True, min_df=5).fit(features)\n",
    "tfidf_features = model.transform(features)\n",
    "X_train, X_test, y_train, y_test = train_test_split(tfidf_features, target, test_size=0.2, random_state=42)\n",
    "\n",
    "clf = LogisticRegression().fit(X_train, y_train)\n",
    "predict(clf, X_test, y_test)"
   ]
  },
  {
   "cell_type": "code",
   "execution_count": 79,
   "metadata": {},
   "outputs": [],
   "source": [
    "# rf = RandomForestClassifier().fit(X_train, y_train)\n",
    "# predict(rf, X_test, y_test)"
   ]
  },
  {
   "cell_type": "markdown",
   "metadata": {},
   "source": [
    "## 2. obscene"
   ]
  },
  {
   "cell_type": "code",
   "execution_count": 80,
   "metadata": {},
   "outputs": [
    {
     "data": {
      "text/plain": [
       "0    1657699\n",
       "1     147175\n",
       "Name: obscene, dtype: int64"
      ]
     },
     "execution_count": 80,
     "metadata": {},
     "output_type": "execute_result"
    }
   ],
   "source": [
    "target = df['obscene'].apply(lambda x: 1 if x >0 else 0)\n",
    "target.value_counts()"
   ]
  },
  {
   "cell_type": "code",
   "execution_count": 81,
   "metadata": {},
   "outputs": [],
   "source": [
    "down_sampled_features, down_labels = downsampling(features, target)\n",
    "up_sampled_features, up_labels = upsampling(features, target)"
   ]
  },
  {
   "cell_type": "code",
   "execution_count": 82,
   "metadata": {},
   "outputs": [
    {
     "name": "stderr",
     "output_type": "stream",
     "text": [
      "/Users/osamaqureshi/anaconda3/lib/python3.7/site-packages/sklearn/linear_model/logistic.py:433: FutureWarning: Default solver will be changed to 'lbfgs' in 0.22. Specify a solver to silence this warning.\n",
      "  FutureWarning)\n"
     ]
    },
    {
     "name": "stdout",
     "output_type": "stream",
     "text": [
      "precision: (array([0.88161107, 0.75668959]), 0.7566895894328317) \n",
      "recall: (array([0.78441073, 0.86422489]), 0.8642248921031145) \n",
      "f1: (array([0.83017543, 0.80689017]), 0.8068901675348955) \n",
      "acc: 0.8192797689825039 \n",
      "roc: 0.8243178093890131\n"
     ]
    }
   ],
   "source": [
    "#downsample\n",
    "model = TfidfVectorizer(sublinear_tf=True, min_df=5).fit(down_sampled_features)\n",
    "tfidf_features = model.transform(down_sampled_features)\n",
    "X_train, X_test, y_train, y_test = train_test_split(tfidf_features, down_labels, test_size=0.2, random_state=42)\n",
    "\n",
    "clf = LogisticRegression().fit(X_train, y_train)\n",
    "predict(clf, X_test, y_test)"
   ]
  },
  {
   "cell_type": "code",
   "execution_count": 83,
   "metadata": {},
   "outputs": [],
   "source": [
    "# rf = RandomForestClassifier().fit(X_train, y_train)\n",
    "# predict(rf, X_test, y_test)"
   ]
  },
  {
   "cell_type": "code",
   "execution_count": 84,
   "metadata": {},
   "outputs": [
    {
     "name": "stderr",
     "output_type": "stream",
     "text": [
      "/Users/osamaqureshi/anaconda3/lib/python3.7/site-packages/sklearn/linear_model/logistic.py:433: FutureWarning: Default solver will be changed to 'lbfgs' in 0.22. Specify a solver to silence this warning.\n",
      "  FutureWarning)\n"
     ]
    },
    {
     "name": "stdout",
     "output_type": "stream",
     "text": [
      "precision: (array([0.89563608, 0.81989008]), 0.8198900754525951) \n",
      "recall: (array([0.83229944, 0.8872787 ]), 0.8872787037067231) \n",
      "f1: (array([0.86280698, 0.85225434]), 0.8522543432264773) \n",
      "acc: 0.8577260662363516 \n",
      "roc: 0.8597890736710996\n"
     ]
    }
   ],
   "source": [
    "#upsample\n",
    "model = TfidfVectorizer(sublinear_tf=True, min_df=5).fit(up_sampled_features)\n",
    "tfidf_features = model.transform(up_sampled_features)\n",
    "X_train, X_test, y_train, y_test = train_test_split(tfidf_features, up_labels, test_size=0.2, random_state=42)\n",
    "\n",
    "clf = LogisticRegression().fit(X_train, y_train)\n",
    "predict(clf, X_test, y_test)"
   ]
  },
  {
   "cell_type": "code",
   "execution_count": 85,
   "metadata": {},
   "outputs": [],
   "source": [
    "# rf = RandomForestClassifier().fit(X_train, y_train)\n",
    "# predict(rf, X_test, y_test)"
   ]
  },
  {
   "cell_type": "code",
   "execution_count": 86,
   "metadata": {},
   "outputs": [
    {
     "name": "stderr",
     "output_type": "stream",
     "text": [
      "/Users/osamaqureshi/anaconda3/lib/python3.7/site-packages/sklearn/linear_model/logistic.py:433: FutureWarning: Default solver will be changed to 'lbfgs' in 0.22. Specify a solver to silence this warning.\n",
      "  FutureWarning)\n"
     ]
    },
    {
     "name": "stdout",
     "output_type": "stream",
     "text": [
      "precision: (array([0.99072269, 0.39670593]), 0.3967059300010125) \n",
      "recall: (array([0.94836009, 0.79268951]), 0.792689506339358) \n",
      "f1: (array([0.96907865, 0.52878062]), 0.5287806194749983) \n",
      "acc: 0.9419655100768751 \n",
      "roc: 0.8705247980639002\n"
     ]
    }
   ],
   "source": [
    "# no sampling\n",
    "model = TfidfVectorizer(sublinear_tf=True, min_df=5).fit(features)\n",
    "tfidf_features = model.transform(features)\n",
    "X_train, X_test, y_train, y_test = train_test_split(tfidf_features, target, test_size=0.2, random_state=42)\n",
    "\n",
    "clf = LogisticRegression().fit(X_train, y_train)\n",
    "predict(clf, X_test, y_test)"
   ]
  },
  {
   "cell_type": "code",
   "execution_count": 87,
   "metadata": {},
   "outputs": [],
   "source": [
    "# rf = RandomForestClassifier().fit(X_train, y_train)\n",
    "# predict(rf, X_test, y_test)"
   ]
  },
  {
   "cell_type": "markdown",
   "metadata": {},
   "source": [
    "## 3. threat"
   ]
  },
  {
   "cell_type": "code",
   "execution_count": 88,
   "metadata": {},
   "outputs": [
    {
     "data": {
      "text/plain": [
       "0    1697945\n",
       "1     106929\n",
       "Name: threat, dtype: int64"
      ]
     },
     "execution_count": 88,
     "metadata": {},
     "output_type": "execute_result"
    }
   ],
   "source": [
    "target = df['threat'].apply(lambda x: 1 if x >0 else 0)\n",
    "target.value_counts()"
   ]
  },
  {
   "cell_type": "code",
   "execution_count": 89,
   "metadata": {},
   "outputs": [],
   "source": [
    "down_sampled_features, down_labels = downsampling(features, target)\n",
    "up_sampled_features, up_labels = upsampling(features, target)"
   ]
  },
  {
   "cell_type": "code",
   "execution_count": 90,
   "metadata": {},
   "outputs": [
    {
     "name": "stderr",
     "output_type": "stream",
     "text": [
      "/Users/osamaqureshi/anaconda3/lib/python3.7/site-packages/sklearn/linear_model/logistic.py:433: FutureWarning: Default solver will be changed to 'lbfgs' in 0.22. Specify a solver to silence this warning.\n",
      "  FutureWarning)\n"
     ]
    },
    {
     "name": "stdout",
     "output_type": "stream",
     "text": [
      "precision: (array([0.82591813, 0.7247745 ]), 0.7247745010982848) \n",
      "recall: (array([0.74986195, 0.8064902 ]), 0.8064901970981331) \n",
      "f1: (array([0.78605459, 0.76345198]), 0.7634519765667307) \n",
      "acc: 0.7753203030019639 \n",
      "roc: 0.7781760759096408\n"
     ]
    }
   ],
   "source": [
    "#downsample\n",
    "model = TfidfVectorizer(sublinear_tf=True, min_df=5).fit(down_sampled_features)\n",
    "tfidf_features = model.transform(down_sampled_features)\n",
    "X_train, X_test, y_train, y_test = train_test_split(tfidf_features, down_labels, test_size=0.2, random_state=42)\n",
    "\n",
    "clf = LogisticRegression().fit(X_train, y_train)\n",
    "predict(clf, X_test, y_test)"
   ]
  },
  {
   "cell_type": "code",
   "execution_count": 91,
   "metadata": {},
   "outputs": [],
   "source": [
    "# rf = RandomForestClassifier().fit(X_train, y_train)\n",
    "# predict(rf, X_test, y_test)"
   ]
  },
  {
   "cell_type": "code",
   "execution_count": 92,
   "metadata": {},
   "outputs": [
    {
     "name": "stderr",
     "output_type": "stream",
     "text": [
      "/Users/osamaqureshi/anaconda3/lib/python3.7/site-packages/sklearn/linear_model/logistic.py:433: FutureWarning: Default solver will be changed to 'lbfgs' in 0.22. Specify a solver to silence this warning.\n",
      "  FutureWarning)\n"
     ]
    },
    {
     "name": "stdout",
     "output_type": "stream",
     "text": [
      "precision: (array([0.84541991, 0.80615629]), 0.8061562932634245) \n",
      "recall: (array([0.81356821, 0.83902376]), 0.8390237621516228) \n",
      "f1: (array([0.82918829, 0.82226171]), 0.8222617139440662) \n",
      "acc: 0.8257938272441098 \n",
      "roc: 0.8262959836064995\n"
     ]
    }
   ],
   "source": [
    "#upsample\n",
    "model = TfidfVectorizer(sublinear_tf=True, min_df=5).fit(up_sampled_features)\n",
    "tfidf_features = model.transform(up_sampled_features)\n",
    "X_train, X_test, y_train, y_test = train_test_split(tfidf_features, up_labels, test_size=0.2, random_state=42)\n",
    "\n",
    "clf = LogisticRegression().fit(X_train, y_train)\n",
    "predict(clf, X_test, y_test)"
   ]
  },
  {
   "cell_type": "code",
   "execution_count": 93,
   "metadata": {},
   "outputs": [],
   "source": [
    "# rf = RandomForestClassifier().fit(X_train, y_train)\n",
    "# predict(rf, X_test, y_test)"
   ]
  },
  {
   "cell_type": "code",
   "execution_count": 94,
   "metadata": {},
   "outputs": [
    {
     "name": "stderr",
     "output_type": "stream",
     "text": [
      "/Users/osamaqureshi/anaconda3/lib/python3.7/site-packages/sklearn/linear_model/logistic.py:433: FutureWarning: Default solver will be changed to 'lbfgs' in 0.22. Specify a solver to silence this warning.\n",
      "  FutureWarning)\n"
     ]
    },
    {
     "name": "stdout",
     "output_type": "stream",
     "text": [
      "precision: (array([0.99325628, 0.16238166]), 0.16238165955077039) \n",
      "recall: (array([0.94918451, 0.60452661]), 0.604526606772633) \n",
      "f1: (array([0.97072043, 0.25599941]), 0.25599941469124965) \n",
      "acc: 0.9436581480711961 \n",
      "roc: 0.7768555604227507\n"
     ]
    }
   ],
   "source": [
    "# no sampling\n",
    "model = TfidfVectorizer(sublinear_tf=True, min_df=5).fit(features)\n",
    "tfidf_features = model.transform(features)\n",
    "X_train, X_test, y_train, y_test = train_test_split(tfidf_features, target, test_size=0.2, random_state=42)\n",
    "\n",
    "clf = LogisticRegression().fit(X_train, y_train)\n",
    "predict(clf, X_test, y_test)"
   ]
  },
  {
   "cell_type": "code",
   "execution_count": 95,
   "metadata": {},
   "outputs": [],
   "source": [
    "# rf = RandomForestClassifier().fit(X_train, y_train)\n",
    "# predict(rf, X_test, y_test)"
   ]
  },
  {
   "cell_type": "markdown",
   "metadata": {},
   "source": [
    "## 4. insult"
   ]
  },
  {
   "cell_type": "code",
   "execution_count": 96,
   "metadata": {},
   "outputs": [
    {
     "data": {
      "text/plain": [
       "0    1350335\n",
       "1     454539\n",
       "Name: insult, dtype: int64"
      ]
     },
     "execution_count": 96,
     "metadata": {},
     "output_type": "execute_result"
    }
   ],
   "source": [
    "target = df['insult'].apply(lambda x: 1 if x >0 else 0)\n",
    "target.value_counts()"
   ]
  },
  {
   "cell_type": "code",
   "execution_count": 97,
   "metadata": {},
   "outputs": [],
   "source": [
    "down_sampled_features, down_labels = downsampling(features, target)\n",
    "up_sampled_features, up_labels = upsampling(features, target)"
   ]
  },
  {
   "cell_type": "code",
   "execution_count": 98,
   "metadata": {},
   "outputs": [
    {
     "name": "stderr",
     "output_type": "stream",
     "text": [
      "/Users/osamaqureshi/anaconda3/lib/python3.7/site-packages/sklearn/linear_model/logistic.py:433: FutureWarning: Default solver will be changed to 'lbfgs' in 0.22. Specify a solver to silence this warning.\n",
      "  FutureWarning)\n"
     ]
    },
    {
     "name": "stdout",
     "output_type": "stream",
     "text": [
      "precision: (array([0.83438678, 0.72239529]), 0.7223952886785183) \n",
      "recall: (array([0.75061311, 0.81329004]), 0.8132900411441035) \n",
      "f1: (array([0.79028606, 0.76515271]), 0.7651527075791229) \n",
      "acc: 0.7784298411580939 \n",
      "roc: 0.78195157490139\n"
     ]
    }
   ],
   "source": [
    "#downsample\n",
    "model = TfidfVectorizer(sublinear_tf=True, min_df=5).fit(down_sampled_features)\n",
    "tfidf_features = model.transform(down_sampled_features)\n",
    "X_train, X_test, y_train, y_test = train_test_split(tfidf_features, down_labels, test_size=0.2, random_state=42)\n",
    "\n",
    "clf = LogisticRegression().fit(X_train, y_train)\n",
    "predict(clf, X_test, y_test)"
   ]
  },
  {
   "cell_type": "code",
   "execution_count": 99,
   "metadata": {},
   "outputs": [],
   "source": [
    "# rf = RandomForestClassifier().fit(X_train, y_train)\n",
    "# predict(rf, X_test, y_test)"
   ]
  },
  {
   "cell_type": "code",
   "execution_count": 100,
   "metadata": {},
   "outputs": [
    {
     "name": "stderr",
     "output_type": "stream",
     "text": [
      "/Users/osamaqureshi/anaconda3/lib/python3.7/site-packages/sklearn/linear_model/logistic.py:433: FutureWarning: Default solver will be changed to 'lbfgs' in 0.22. Specify a solver to silence this warning.\n",
      "  FutureWarning)\n"
     ]
    },
    {
     "name": "stdout",
     "output_type": "stream",
     "text": [
      "precision: (array([0.84015769, 0.7423615 ]), 0.7423615042757814) \n",
      "recall: (array([0.76507882, 0.82302119]), 0.8230211931505838) \n",
      "f1: (array([0.80086249, 0.78061327]), 0.7806132672893632) \n",
      "acc: 0.7912277323775211 \n",
      "roc: 0.7940500059741636\n"
     ]
    }
   ],
   "source": [
    "#upsample\n",
    "model = TfidfVectorizer(sublinear_tf=True, min_df=5).fit(up_sampled_features)\n",
    "tfidf_features = model.transform(up_sampled_features)\n",
    "X_train, X_test, y_train, y_test = train_test_split(tfidf_features, up_labels, test_size=0.2, random_state=42)\n",
    "\n",
    "clf = LogisticRegression().fit(X_train, y_train)\n",
    "predict(clf, X_test, y_test)"
   ]
  },
  {
   "cell_type": "code",
   "execution_count": 101,
   "metadata": {},
   "outputs": [],
   "source": [
    "# rf = RandomForestClassifier().fit(X_train, y_train)\n",
    "# predict(rf, X_test, y_test)"
   ]
  },
  {
   "cell_type": "code",
   "execution_count": 102,
   "metadata": {},
   "outputs": [
    {
     "name": "stderr",
     "output_type": "stream",
     "text": [
      "/Users/osamaqureshi/anaconda3/lib/python3.7/site-packages/sklearn/linear_model/logistic.py:433: FutureWarning: Default solver will be changed to 'lbfgs' in 0.22. Specify a solver to silence this warning.\n",
      "  FutureWarning)\n"
     ]
    },
    {
     "name": "stdout",
     "output_type": "stream",
     "text": [
      "precision: (array([0.95081773, 0.49005551]), 0.49005551427197624) \n",
      "recall: (array([0.84593137, 0.77188151]), 0.7718815085116271) \n",
      "f1: (array([0.89531314, 0.59949868]), 0.5994986798569567) \n",
      "acc: 0.8340134358335065 \n",
      "roc: 0.8089064368078642\n"
     ]
    }
   ],
   "source": [
    "# no sampling\n",
    "model = TfidfVectorizer(sublinear_tf=True, min_df=5).fit(features)\n",
    "tfidf_features = model.transform(features)\n",
    "X_train, X_test, y_train, y_test = train_test_split(tfidf_features, target, test_size=0.2, random_state=42)\n",
    "\n",
    "clf = LogisticRegression().fit(X_train, y_train)\n",
    "predict(clf, X_test, y_test)"
   ]
  },
  {
   "cell_type": "code",
   "execution_count": 103,
   "metadata": {},
   "outputs": [],
   "source": [
    "# rf = RandomForestClassifier().fit(X_train, y_train)\n",
    "# predict(rf, X_test, y_test)"
   ]
  },
  {
   "cell_type": "markdown",
   "metadata": {},
   "source": [
    "## 5. identity_attack"
   ]
  },
  {
   "cell_type": "code",
   "execution_count": 104,
   "metadata": {},
   "outputs": [
    {
     "data": {
      "text/plain": [
       "0    1586322\n",
       "1     218552\n",
       "Name: identity_attack, dtype: int64"
      ]
     },
     "execution_count": 104,
     "metadata": {},
     "output_type": "execute_result"
    }
   ],
   "source": [
    "target = df['identity_attack'].apply(lambda x: 1 if x >0 else 0)\n",
    "target.value_counts()"
   ]
  },
  {
   "cell_type": "code",
   "execution_count": 105,
   "metadata": {},
   "outputs": [],
   "source": [
    "down_sampled_features, down_labels = downsampling(features, target)\n",
    "up_sampled_features, up_labels = upsampling(features, target)"
   ]
  },
  {
   "cell_type": "code",
   "execution_count": 106,
   "metadata": {},
   "outputs": [
    {
     "name": "stderr",
     "output_type": "stream",
     "text": [
      "/Users/osamaqureshi/anaconda3/lib/python3.7/site-packages/sklearn/linear_model/logistic.py:433: FutureWarning: Default solver will be changed to 'lbfgs' in 0.22. Specify a solver to silence this warning.\n",
      "  FutureWarning)\n"
     ]
    },
    {
     "name": "stdout",
     "output_type": "stream",
     "text": [
      "precision: (array([0.83060959, 0.75555301]), 0.7555530112205175) \n",
      "recall: (array([0.7729448 , 0.81658665]), 0.8165866455476909) \n",
      "f1: (array([0.80074037, 0.7848851 ]), 0.7848851039535658) \n",
      "acc: 0.7931160705093742 \n",
      "roc: 0.7947657251986036\n"
     ]
    }
   ],
   "source": [
    "#downsample\n",
    "model = TfidfVectorizer(sublinear_tf=True, min_df=5).fit(down_sampled_features)\n",
    "tfidf_features = model.transform(down_sampled_features)\n",
    "X_train, X_test, y_train, y_test = train_test_split(tfidf_features, down_labels, test_size=0.2, random_state=42)\n",
    "\n",
    "clf = LogisticRegression().fit(X_train, y_train)\n",
    "predict(clf, X_test, y_test)"
   ]
  },
  {
   "cell_type": "code",
   "execution_count": 107,
   "metadata": {},
   "outputs": [],
   "source": [
    "# rf = RandomForestClassifier().fit(X_train, y_train)\n",
    "# predict(rf, X_test, y_test)"
   ]
  },
  {
   "cell_type": "code",
   "execution_count": 108,
   "metadata": {},
   "outputs": [
    {
     "name": "stderr",
     "output_type": "stream",
     "text": [
      "/Users/osamaqureshi/anaconda3/lib/python3.7/site-packages/sklearn/linear_model/logistic.py:433: FutureWarning: Default solver will be changed to 'lbfgs' in 0.22. Specify a solver to silence this warning.\n",
      "  FutureWarning)\n"
     ]
    },
    {
     "name": "stdout",
     "output_type": "stream",
     "text": [
      "precision: (array([0.84347131, 0.79748373]), 0.7974837291033734) \n",
      "recall: (array([0.8066703 , 0.83567721]), 0.8356772124698337) \n",
      "f1: (array([0.82466044, 0.81613387]), 0.8161338699236601) \n",
      "acc: 0.8204983538971427 \n",
      "roc: 0.8211737566238773\n"
     ]
    }
   ],
   "source": [
    "#upsample\n",
    "model = TfidfVectorizer(sublinear_tf=True, min_df=5).fit(up_sampled_features)\n",
    "tfidf_features = model.transform(up_sampled_features)\n",
    "X_train, X_test, y_train, y_test = train_test_split(tfidf_features, up_labels, test_size=0.2, random_state=42)\n",
    "\n",
    "clf = LogisticRegression().fit(X_train, y_train)\n",
    "predict(clf, X_test, y_test)"
   ]
  },
  {
   "cell_type": "code",
   "execution_count": 109,
   "metadata": {},
   "outputs": [],
   "source": [
    "# rf = RandomForestClassifier().fit(X_train, y_train)\n",
    "# predict(rf, X_test, y_test)"
   ]
  },
  {
   "cell_type": "code",
   "execution_count": 110,
   "metadata": {},
   "outputs": [
    {
     "name": "stderr",
     "output_type": "stream",
     "text": [
      "/Users/osamaqureshi/anaconda3/lib/python3.7/site-packages/sklearn/linear_model/logistic.py:433: FutureWarning: Default solver will be changed to 'lbfgs' in 0.22. Specify a solver to silence this warning.\n",
      "  FutureWarning)\n"
     ]
    },
    {
     "name": "stdout",
     "output_type": "stream",
     "text": [
      "precision: (array([0.97985603, 0.33671543]), 0.33671542643947494) \n",
      "recall: (array([0.91419356, 0.69858876]), 0.6985887572568085) \n",
      "f1: (array([0.94588661, 0.45440869]), 0.4544086945843055) \n",
      "acc: 0.9015388877346077 \n",
      "roc: 0.8063911566193868\n"
     ]
    }
   ],
   "source": [
    "# no sampling\n",
    "model = TfidfVectorizer(sublinear_tf=True, min_df=5).fit(features)\n",
    "tfidf_features = model.transform(features)\n",
    "X_train, X_test, y_train, y_test = train_test_split(tfidf_features, target, test_size=0.2, random_state=42)\n",
    "\n",
    "clf = LogisticRegression().fit(X_train, y_train)\n",
    "predict(clf, X_test, y_test)"
   ]
  },
  {
   "cell_type": "code",
   "execution_count": 111,
   "metadata": {},
   "outputs": [],
   "source": [
    "# rf = RandomForestClassifier().fit(X_train, y_train)\n",
    "# predict(rf, X_test, y_test)"
   ]
  },
  {
   "cell_type": "markdown",
   "metadata": {},
   "source": [
    "# Clustering"
   ]
  },
  {
   "cell_type": "markdown",
   "metadata": {},
   "source": [
    "### Downsample"
   ]
  },
  {
   "cell_type": "code",
   "execution_count": 34,
   "metadata": {},
   "outputs": [],
   "source": [
    "down_sampled_features, down_labels = downsampling(features, target)"
   ]
  },
  {
   "cell_type": "code",
   "execution_count": 35,
   "metadata": {},
   "outputs": [],
   "source": [
    "model = TfidfVectorizer(sublinear_tf=True, min_df=5).fit(down_sampled_features)\n",
    "tfidf_features = model.transform(down_sampled_features)"
   ]
  },
  {
   "cell_type": "code",
   "execution_count": 36,
   "metadata": {
    "collapsed": true
   },
   "outputs": [
    {
     "name": "stdout",
     "output_type": "stream",
     "text": [
      "2\n"
     ]
    },
    {
     "ename": "KeyboardInterrupt",
     "evalue": "",
     "output_type": "error",
     "traceback": [
      "\u001b[0;31m---------------------------------------------------------------------------\u001b[0m",
      "\u001b[0;31mKeyboardInterrupt\u001b[0m                         Traceback (most recent call last)",
      "\u001b[0;32m<ipython-input-36-bc01099b58cf>\u001b[0m in \u001b[0;36m<module>\u001b[0;34m\u001b[0m\n\u001b[1;32m      4\u001b[0m \u001b[0;32mfor\u001b[0m \u001b[0mk\u001b[0m \u001b[0;32min\u001b[0m \u001b[0mK\u001b[0m\u001b[0;34m:\u001b[0m\u001b[0;34m\u001b[0m\u001b[0;34m\u001b[0m\u001b[0m\n\u001b[1;32m      5\u001b[0m     \u001b[0mprint\u001b[0m\u001b[0;34m(\u001b[0m\u001b[0mk\u001b[0m\u001b[0;34m)\u001b[0m\u001b[0;34m\u001b[0m\u001b[0;34m\u001b[0m\u001b[0m\n\u001b[0;32m----> 6\u001b[0;31m     \u001b[0mkmeanModel\u001b[0m \u001b[0;34m=\u001b[0m \u001b[0mKMeans\u001b[0m\u001b[0;34m(\u001b[0m\u001b[0mn_clusters\u001b[0m\u001b[0;34m=\u001b[0m\u001b[0mk\u001b[0m\u001b[0;34m)\u001b[0m\u001b[0;34m.\u001b[0m\u001b[0mfit\u001b[0m\u001b[0;34m(\u001b[0m\u001b[0mtfidf_features\u001b[0m\u001b[0;34m)\u001b[0m\u001b[0;34m\u001b[0m\u001b[0;34m\u001b[0m\u001b[0m\n\u001b[0m\u001b[1;32m      7\u001b[0m     \u001b[0mkmeanModel\u001b[0m\u001b[0;34m.\u001b[0m\u001b[0mfit\u001b[0m\u001b[0;34m(\u001b[0m\u001b[0mtfidf_features\u001b[0m\u001b[0;34m)\u001b[0m\u001b[0;34m\u001b[0m\u001b[0;34m\u001b[0m\u001b[0m\n\u001b[1;32m      8\u001b[0m     \u001b[0mdistortions\u001b[0m\u001b[0;34m.\u001b[0m\u001b[0mappend\u001b[0m\u001b[0;34m(\u001b[0m\u001b[0msum\u001b[0m\u001b[0;34m(\u001b[0m\u001b[0mnp\u001b[0m\u001b[0;34m.\u001b[0m\u001b[0mmin\u001b[0m\u001b[0;34m(\u001b[0m\u001b[0mcdist\u001b[0m\u001b[0;34m(\u001b[0m\u001b[0mtfidf_features\u001b[0m\u001b[0;34m,\u001b[0m \u001b[0mkmeanModel\u001b[0m\u001b[0;34m.\u001b[0m\u001b[0mcluster_centers_\u001b[0m\u001b[0;34m,\u001b[0m \u001b[0;34m'euclidean'\u001b[0m\u001b[0;34m)\u001b[0m\u001b[0;34m,\u001b[0m \u001b[0maxis\u001b[0m\u001b[0;34m=\u001b[0m\u001b[0;36m1\u001b[0m\u001b[0;34m)\u001b[0m\u001b[0;34m)\u001b[0m \u001b[0;34m/\u001b[0m \u001b[0mtfidf_features\u001b[0m\u001b[0;34m.\u001b[0m\u001b[0mshape\u001b[0m\u001b[0;34m[\u001b[0m\u001b[0;36m0\u001b[0m\u001b[0;34m]\u001b[0m\u001b[0;34m)\u001b[0m\u001b[0;34m\u001b[0m\u001b[0;34m\u001b[0m\u001b[0m\n",
      "\u001b[0;32m~/anaconda3/lib/python3.7/site-packages/sklearn/cluster/k_means_.py\u001b[0m in \u001b[0;36mfit\u001b[0;34m(self, X, y, sample_weight)\u001b[0m\n\u001b[1;32m    969\u001b[0m                 \u001b[0mtol\u001b[0m\u001b[0;34m=\u001b[0m\u001b[0mself\u001b[0m\u001b[0;34m.\u001b[0m\u001b[0mtol\u001b[0m\u001b[0;34m,\u001b[0m \u001b[0mrandom_state\u001b[0m\u001b[0;34m=\u001b[0m\u001b[0mrandom_state\u001b[0m\u001b[0;34m,\u001b[0m \u001b[0mcopy_x\u001b[0m\u001b[0;34m=\u001b[0m\u001b[0mself\u001b[0m\u001b[0;34m.\u001b[0m\u001b[0mcopy_x\u001b[0m\u001b[0;34m,\u001b[0m\u001b[0;34m\u001b[0m\u001b[0;34m\u001b[0m\u001b[0m\n\u001b[1;32m    970\u001b[0m                 \u001b[0mn_jobs\u001b[0m\u001b[0;34m=\u001b[0m\u001b[0mself\u001b[0m\u001b[0;34m.\u001b[0m\u001b[0mn_jobs\u001b[0m\u001b[0;34m,\u001b[0m \u001b[0malgorithm\u001b[0m\u001b[0;34m=\u001b[0m\u001b[0mself\u001b[0m\u001b[0;34m.\u001b[0m\u001b[0malgorithm\u001b[0m\u001b[0;34m,\u001b[0m\u001b[0;34m\u001b[0m\u001b[0;34m\u001b[0m\u001b[0m\n\u001b[0;32m--> 971\u001b[0;31m                 return_n_iter=True)\n\u001b[0m\u001b[1;32m    972\u001b[0m         \u001b[0;32mreturn\u001b[0m \u001b[0mself\u001b[0m\u001b[0;34m\u001b[0m\u001b[0;34m\u001b[0m\u001b[0m\n\u001b[1;32m    973\u001b[0m \u001b[0;34m\u001b[0m\u001b[0m\n",
      "\u001b[0;32m~/anaconda3/lib/python3.7/site-packages/sklearn/cluster/k_means_.py\u001b[0m in \u001b[0;36mk_means\u001b[0;34m(X, n_clusters, sample_weight, init, precompute_distances, n_init, max_iter, verbose, tol, random_state, copy_x, n_jobs, algorithm, return_n_iter)\u001b[0m\n\u001b[1;32m    378\u001b[0m                 \u001b[0mverbose\u001b[0m\u001b[0;34m=\u001b[0m\u001b[0mverbose\u001b[0m\u001b[0;34m,\u001b[0m \u001b[0mprecompute_distances\u001b[0m\u001b[0;34m=\u001b[0m\u001b[0mprecompute_distances\u001b[0m\u001b[0;34m,\u001b[0m\u001b[0;34m\u001b[0m\u001b[0;34m\u001b[0m\u001b[0m\n\u001b[1;32m    379\u001b[0m                 \u001b[0mtol\u001b[0m\u001b[0;34m=\u001b[0m\u001b[0mtol\u001b[0m\u001b[0;34m,\u001b[0m \u001b[0mx_squared_norms\u001b[0m\u001b[0;34m=\u001b[0m\u001b[0mx_squared_norms\u001b[0m\u001b[0;34m,\u001b[0m\u001b[0;34m\u001b[0m\u001b[0;34m\u001b[0m\u001b[0m\n\u001b[0;32m--> 380\u001b[0;31m                 random_state=random_state)\n\u001b[0m\u001b[1;32m    381\u001b[0m             \u001b[0;31m# determine if these results are the best so far\u001b[0m\u001b[0;34m\u001b[0m\u001b[0;34m\u001b[0m\u001b[0;34m\u001b[0m\u001b[0m\n\u001b[1;32m    382\u001b[0m             \u001b[0;32mif\u001b[0m \u001b[0mbest_inertia\u001b[0m \u001b[0;32mis\u001b[0m \u001b[0;32mNone\u001b[0m \u001b[0;32mor\u001b[0m \u001b[0minertia\u001b[0m \u001b[0;34m<\u001b[0m \u001b[0mbest_inertia\u001b[0m\u001b[0;34m:\u001b[0m\u001b[0;34m\u001b[0m\u001b[0;34m\u001b[0m\u001b[0m\n",
      "\u001b[0;32m~/anaconda3/lib/python3.7/site-packages/sklearn/cluster/k_means_.py\u001b[0m in \u001b[0;36m_kmeans_single_lloyd\u001b[0;34m(X, sample_weight, n_clusters, max_iter, init, verbose, x_squared_norms, random_state, tol, precompute_distances)\u001b[0m\n\u001b[1;32m    549\u001b[0m         \u001b[0;32mif\u001b[0m \u001b[0msp\u001b[0m\u001b[0;34m.\u001b[0m\u001b[0missparse\u001b[0m\u001b[0;34m(\u001b[0m\u001b[0mX\u001b[0m\u001b[0;34m)\u001b[0m\u001b[0;34m:\u001b[0m\u001b[0;34m\u001b[0m\u001b[0;34m\u001b[0m\u001b[0m\n\u001b[1;32m    550\u001b[0m             centers = _k_means._centers_sparse(X, sample_weight, labels,\n\u001b[0;32m--> 551\u001b[0;31m                                                n_clusters, distances)\n\u001b[0m\u001b[1;32m    552\u001b[0m         \u001b[0;32melse\u001b[0m\u001b[0;34m:\u001b[0m\u001b[0;34m\u001b[0m\u001b[0;34m\u001b[0m\u001b[0m\n\u001b[1;32m    553\u001b[0m             centers = _k_means._centers_dense(X, sample_weight, labels,\n",
      "\u001b[0;31mKeyboardInterrupt\u001b[0m: "
     ]
    }
   ],
   "source": [
    "# k means determine k\n",
    "distortions = []\n",
    "K = range(2,10)\n",
    "for k in K:\n",
    "    print(k)\n",
    "    kmeanModel = KMeans(n_clusters=k).fit(tfidf_features)\n",
    "    kmeanModel.fit(tfidf_features)\n",
    "    distortions.append(sum(np.min(cdist(tfidf_features, kmeanModel.cluster_centers_, 'euclidean'), axis=1)) / tfidf_features.shape[0])"
   ]
  },
  {
   "cell_type": "markdown",
   "metadata": {},
   "source": [
    "### Upsample"
   ]
  },
  {
   "cell_type": "code",
   "execution_count": null,
   "metadata": {},
   "outputs": [],
   "source": [
    "up_sampled_features, up_labels = upsampling(features, target)"
   ]
  },
  {
   "cell_type": "code",
   "execution_count": null,
   "metadata": {},
   "outputs": [],
   "source": [
    "model = TfidfVectorizer(sublinear_tf=True, min_df=5).fit(up_sampled_features)\n",
    "tfidf_features = model.transform(up_sampled_features)"
   ]
  },
  {
   "cell_type": "markdown",
   "metadata": {},
   "source": [
    "### No sample"
   ]
  },
  {
   "cell_type": "code",
   "execution_count": 37,
   "metadata": {},
   "outputs": [],
   "source": [
    "model = TfidfVectorizer(sublinear_tf=True, min_df=5).fit(features)\n",
    "tfidf_features = model.transform(features)"
   ]
  },
  {
   "cell_type": "code",
   "execution_count": 38,
   "metadata": {},
   "outputs": [
    {
     "data": {
      "text/plain": [
       "<1804874x90621 sparse matrix of type '<class 'numpy.float64'>'\n",
       "\twith 42333115 stored elements in Compressed Sparse Row format>"
      ]
     },
     "execution_count": 38,
     "metadata": {},
     "output_type": "execute_result"
    }
   ],
   "source": [
    "tfidf_features"
   ]
  },
  {
   "cell_type": "code",
   "execution_count": 48,
   "metadata": {},
   "outputs": [],
   "source": [
    "idx = np.random.choice(tfidf_features.shape[0], 20000, replace=False)\n",
    "sample = tfidf_features[idx]"
   ]
  },
  {
   "cell_type": "code",
   "execution_count": 49,
   "metadata": {},
   "outputs": [],
   "source": [
    "model = KMeans(n_clusters=2).fit(sample[:10000])"
   ]
  },
  {
   "cell_type": "code",
   "execution_count": 52,
   "metadata": {},
   "outputs": [],
   "source": [
    "centers = model.cluster_centers_"
   ]
  },
  {
   "cell_type": "code",
   "execution_count": 57,
   "metadata": {},
   "outputs": [],
   "source": [
    "pred = model.predict(sample[10000:])"
   ]
  },
  {
   "cell_type": "code",
   "execution_count": 59,
   "metadata": {},
   "outputs": [
    {
     "data": {
      "text/plain": [
       "20000"
      ]
     },
     "execution_count": 59,
     "metadata": {},
     "output_type": "execute_result"
    }
   ],
   "source": [
    "len(idx)"
   ]
  },
  {
   "cell_type": "code",
   "execution_count": 60,
   "metadata": {},
   "outputs": [],
   "source": [
    "y_test = target[idx][10000:]"
   ]
  },
  {
   "cell_type": "code",
   "execution_count": 61,
   "metadata": {},
   "outputs": [],
   "source": [
    "precision = precision_score(pred,y_test,average=None)\n",
    "recall = recall_score(pred,y_test,average=None)\n",
    "f1 = f1_score(pred,y_test,average=None)\n",
    "accuracy = accuracy_score(pred,y_test)\n",
    "roc = roc_auc_score(pred, y_test)"
   ]
  },
  {
   "cell_type": "code",
   "execution_count": 70,
   "metadata": {},
   "outputs": [
    {
     "data": {
      "text/html": [
       "<div>\n",
       "<style scoped>\n",
       "    .dataframe tbody tr th:only-of-type {\n",
       "        vertical-align: middle;\n",
       "    }\n",
       "\n",
       "    .dataframe tbody tr th {\n",
       "        vertical-align: top;\n",
       "    }\n",
       "\n",
       "    .dataframe thead th {\n",
       "        text-align: right;\n",
       "    }\n",
       "</style>\n",
       "<table border=\"1\" class=\"dataframe\">\n",
       "  <thead>\n",
       "    <tr style=\"text-align: right;\">\n",
       "      <th></th>\n",
       "      <th>id</th>\n",
       "      <th>target</th>\n",
       "      <th>comment_text</th>\n",
       "      <th>severe_toxicity</th>\n",
       "      <th>obscene</th>\n",
       "      <th>identity_attack</th>\n",
       "      <th>insult</th>\n",
       "      <th>threat</th>\n",
       "      <th>asian</th>\n",
       "      <th>atheist</th>\n",
       "      <th>bisexual</th>\n",
       "      <th>black</th>\n",
       "      <th>buddhist</th>\n",
       "      <th>christian</th>\n",
       "      <th>female</th>\n",
       "      <th>heterosexual</th>\n",
       "      <th>hindu</th>\n",
       "      <th>homosexual_gay_or_lesbian</th>\n",
       "      <th>intellectual_or_learning_disability</th>\n",
       "      <th>jewish</th>\n",
       "      <th>latino</th>\n",
       "      <th>male</th>\n",
       "      <th>muslim</th>\n",
       "      <th>other_disability</th>\n",
       "      <th>other_gender</th>\n",
       "      <th>other_race_or_ethnicity</th>\n",
       "      <th>other_religion</th>\n",
       "      <th>other_sexual_orientation</th>\n",
       "      <th>physical_disability</th>\n",
       "      <th>psychiatric_or_mental_illness</th>\n",
       "      <th>transgender</th>\n",
       "      <th>white</th>\n",
       "      <th>created_date</th>\n",
       "      <th>publication_id</th>\n",
       "      <th>parent_id</th>\n",
       "      <th>article_id</th>\n",
       "      <th>rating</th>\n",
       "      <th>funny</th>\n",
       "      <th>wow</th>\n",
       "      <th>sad</th>\n",
       "      <th>likes</th>\n",
       "      <th>disagree</th>\n",
       "      <th>sexual_explicit</th>\n",
       "      <th>identity_annotator_count</th>\n",
       "      <th>toxicity_annotator_count</th>\n",
       "    </tr>\n",
       "  </thead>\n",
       "  <tbody>\n",
       "    <tr>\n",
       "      <th>0</th>\n",
       "      <td>59848</td>\n",
       "      <td>0.0</td>\n",
       "      <td>This is so cool. It's like, 'would you want yo...</td>\n",
       "      <td>0.0</td>\n",
       "      <td>0.0</td>\n",
       "      <td>0.0</td>\n",
       "      <td>0.0</td>\n",
       "      <td>0.0</td>\n",
       "      <td>NaN</td>\n",
       "      <td>NaN</td>\n",
       "      <td>NaN</td>\n",
       "      <td>NaN</td>\n",
       "      <td>NaN</td>\n",
       "      <td>NaN</td>\n",
       "      <td>NaN</td>\n",
       "      <td>NaN</td>\n",
       "      <td>NaN</td>\n",
       "      <td>NaN</td>\n",
       "      <td>NaN</td>\n",
       "      <td>NaN</td>\n",
       "      <td>NaN</td>\n",
       "      <td>NaN</td>\n",
       "      <td>NaN</td>\n",
       "      <td>NaN</td>\n",
       "      <td>NaN</td>\n",
       "      <td>NaN</td>\n",
       "      <td>NaN</td>\n",
       "      <td>NaN</td>\n",
       "      <td>NaN</td>\n",
       "      <td>NaN</td>\n",
       "      <td>NaN</td>\n",
       "      <td>NaN</td>\n",
       "      <td>2015-09-29 10:50:41.987077+00</td>\n",
       "      <td>2</td>\n",
       "      <td>NaN</td>\n",
       "      <td>2006</td>\n",
       "      <td>rejected</td>\n",
       "      <td>0</td>\n",
       "      <td>0</td>\n",
       "      <td>0</td>\n",
       "      <td>0</td>\n",
       "      <td>0</td>\n",
       "      <td>0.0</td>\n",
       "      <td>0</td>\n",
       "      <td>4</td>\n",
       "    </tr>\n",
       "  </tbody>\n",
       "</table>\n",
       "</div>"
      ],
      "text/plain": [
       "      id  target                                       comment_text  \\\n",
       "0  59848     0.0  This is so cool. It's like, 'would you want yo...   \n",
       "\n",
       "   severe_toxicity  obscene  identity_attack  insult  threat  asian  atheist  \\\n",
       "0              0.0      0.0              0.0     0.0     0.0    NaN      NaN   \n",
       "\n",
       "   bisexual  black  buddhist  christian  female  heterosexual  hindu  \\\n",
       "0       NaN    NaN       NaN        NaN     NaN           NaN    NaN   \n",
       "\n",
       "   homosexual_gay_or_lesbian  intellectual_or_learning_disability  jewish  \\\n",
       "0                        NaN                                  NaN     NaN   \n",
       "\n",
       "   latino  male  muslim  other_disability  other_gender  \\\n",
       "0     NaN   NaN     NaN               NaN           NaN   \n",
       "\n",
       "   other_race_or_ethnicity  other_religion  other_sexual_orientation  \\\n",
       "0                      NaN             NaN                       NaN   \n",
       "\n",
       "   physical_disability  psychiatric_or_mental_illness  transgender  white  \\\n",
       "0                  NaN                            NaN          NaN    NaN   \n",
       "\n",
       "                    created_date  publication_id  parent_id  article_id  \\\n",
       "0  2015-09-29 10:50:41.987077+00               2        NaN        2006   \n",
       "\n",
       "     rating  funny  wow  sad  likes  disagree  sexual_explicit  \\\n",
       "0  rejected      0    0    0      0         0              0.0   \n",
       "\n",
       "   identity_annotator_count  toxicity_annotator_count  \n",
       "0                         0                         4  "
      ]
     },
     "execution_count": 70,
     "metadata": {},
     "output_type": "execute_result"
    }
   ],
   "source": [
    "df.head(1)"
   ]
  },
  {
   "cell_type": "code",
   "execution_count": 62,
   "metadata": {},
   "outputs": [
    {
     "name": "stdout",
     "output_type": "stream",
     "text": [
      "precision: [0.3638307  0.64197117] \n",
      "recall: [0.70505385 0.30020379] \n",
      "f1: [0.47997744 0.40910062] \n",
      "acc: 0.4468 \n",
      "roc: 0.5026288231124991\n"
     ]
    }
   ],
   "source": [
    "print('precision:',precision,\n",
    "      '\\nrecall:',recall,'\\nf1:',f1,'\\nacc:',accuracy,'\\nroc:',roc)"
   ]
  },
  {
   "cell_type": "code",
   "execution_count": 63,
   "metadata": {},
   "outputs": [],
   "source": [
    "temp = features[idx[10000:]]"
   ]
  },
  {
   "cell_type": "code",
   "execution_count": 65,
   "metadata": {},
   "outputs": [
    {
     "data": {
      "text/plain": [
       "array([1, 1, 1, 1, 0], dtype=int32)"
      ]
     },
     "execution_count": 65,
     "metadata": {},
     "output_type": "execute_result"
    }
   ],
   "source": [
    "pred[:5]"
   ]
  },
  {
   "cell_type": "code",
   "execution_count": 67,
   "metadata": {},
   "outputs": [],
   "source": [
    "ind = np.where(pred==1)[0]\n",
    "pos = temp[ind]\n",
    "\n",
    "ind = np.where(pred==0)[0]\n",
    "neg = temp[ind]"
   ]
  },
  {
   "cell_type": "code",
   "execution_count": 68,
   "metadata": {},
   "outputs": [
    {
     "data": {
      "image/png": "[encoded data removed]",
      "text/plain": [
       "<Figure size 576x396 with 1 Axes>"
      ]
     },
     "metadata": {},
     "output_type": "display_data"
    }
   ],
   "source": [
    "wordcloud = WordCloud(width = 800, height = 800, background_color ='white',  stopwords = stopwords, \n",
    "                    min_font_size = 10).generate(' '.join(pos)) \n",
    "# plot the WordCloud image                        \n",
    "plt.figure(facecolor = None) \n",
    "plt.imshow(wordcloud) \n",
    "plt.axis(\"off\") \n",
    "plt.tight_layout(pad = 0) \n",
    "plt.savefig('pos.jpg'.format(i))\n",
    "plt.show() "
   ]
  },
  {
   "cell_type": "code",
   "execution_count": 69,
   "metadata": {},
   "outputs": [
    {
     "data": {
      "image/png": "[encoded data removed]",
      "text/plain": [
       "<Figure size 576x396 with 1 Axes>"
      ]
     },
     "metadata": {},
     "output_type": "display_data"
    }
   ],
   "source": [
    "wordcloud = WordCloud(width = 800, height = 800, background_color ='white',  stopwords = stopwords, \n",
    "                    min_font_size = 10).generate(' '.join(neg)) \n",
    "# plot the WordCloud image                        \n",
    "plt.figure(facecolor = None) \n",
    "plt.imshow(wordcloud) \n",
    "plt.axis(\"off\") \n",
    "plt.tight_layout(pad = 0) \n",
    "plt.savefig('neg.jpg'.format(i))\n",
    "plt.show() "
   ]
  },
  {
   "cell_type": "code",
   "execution_count": null,
   "metadata": {},
   "outputs": [],
   "source": []
  },
  {
   "cell_type": "code",
   "execution_count": null,
   "metadata": {},
   "outputs": [],
   "source": []
  },
  {
   "cell_type": "code",
   "execution_count": null,
   "metadata": {},
   "outputs": [],
   "source": []
  },
  {
   "cell_type": "code",
   "execution_count": null,
   "metadata": {},
   "outputs": [],
   "source": []
  },
  {
   "cell_type": "code",
   "execution_count": 44,
   "metadata": {},
   "outputs": [],
   "source": [
    "model = KMeans()\n",
    "visualizer = KElbowVisualizer(model, k=(2,5))"
   ]
  },
  {
   "cell_type": "code",
   "execution_count": 45,
   "metadata": {
    "collapsed": true
   },
   "outputs": [
    {
     "ename": "KeyboardInterrupt",
     "evalue": "",
     "output_type": "error",
     "traceback": [
      "\u001b[0;31m---------------------------------------------------------------------------\u001b[0m",
      "\u001b[0;31mKeyboardInterrupt\u001b[0m                         Traceback (most recent call last)",
      "\u001b[0;32m<ipython-input-45-3e6f316ee933>\u001b[0m in \u001b[0;36m<module>\u001b[0;34m\u001b[0m\n\u001b[0;32m----> 1\u001b[0;31m \u001b[0mvisualizer\u001b[0m\u001b[0;34m.\u001b[0m\u001b[0mfit\u001b[0m\u001b[0;34m(\u001b[0m\u001b[0mtfidf_features\u001b[0m\u001b[0;34m)\u001b[0m\u001b[0;34m\u001b[0m\u001b[0;34m\u001b[0m\u001b[0m\n\u001b[0m\u001b[1;32m      2\u001b[0m \u001b[0mvisualizer\u001b[0m\u001b[0;34m.\u001b[0m\u001b[0mshow\u001b[0m\u001b[0;34m(\u001b[0m\u001b[0;34m)\u001b[0m\u001b[0;34m\u001b[0m\u001b[0;34m\u001b[0m\u001b[0m\n",
      "\u001b[0;32m~/anaconda3/lib/python3.7/site-packages/yellowbrick/cluster/elbow.py\u001b[0m in \u001b[0;36mfit\u001b[0;34m(self, X, y, **kwargs)\u001b[0m\n\u001b[1;32m    310\u001b[0m             \u001b[0;31m# Set the k value and fit the model\u001b[0m\u001b[0;34m\u001b[0m\u001b[0;34m\u001b[0m\u001b[0;34m\u001b[0m\u001b[0m\n\u001b[1;32m    311\u001b[0m             \u001b[0mself\u001b[0m\u001b[0;34m.\u001b[0m\u001b[0mestimator\u001b[0m\u001b[0;34m.\u001b[0m\u001b[0mset_params\u001b[0m\u001b[0;34m(\u001b[0m\u001b[0mn_clusters\u001b[0m\u001b[0;34m=\u001b[0m\u001b[0mk\u001b[0m\u001b[0;34m)\u001b[0m\u001b[0;34m\u001b[0m\u001b[0;34m\u001b[0m\u001b[0m\n\u001b[0;32m--> 312\u001b[0;31m             \u001b[0mself\u001b[0m\u001b[0;34m.\u001b[0m\u001b[0mestimator\u001b[0m\u001b[0;34m.\u001b[0m\u001b[0mfit\u001b[0m\u001b[0;34m(\u001b[0m\u001b[0mX\u001b[0m\u001b[0;34m)\u001b[0m\u001b[0;34m\u001b[0m\u001b[0;34m\u001b[0m\u001b[0m\n\u001b[0m\u001b[1;32m    313\u001b[0m \u001b[0;34m\u001b[0m\u001b[0m\n\u001b[1;32m    314\u001b[0m             \u001b[0;31m# Append the time and score to our plottable metrics\u001b[0m\u001b[0;34m\u001b[0m\u001b[0;34m\u001b[0m\u001b[0;34m\u001b[0m\u001b[0m\n",
      "\u001b[0;32m~/anaconda3/lib/python3.7/site-packages/sklearn/cluster/k_means_.py\u001b[0m in \u001b[0;36mfit\u001b[0;34m(self, X, y, sample_weight)\u001b[0m\n\u001b[1;32m    969\u001b[0m                 \u001b[0mtol\u001b[0m\u001b[0;34m=\u001b[0m\u001b[0mself\u001b[0m\u001b[0;34m.\u001b[0m\u001b[0mtol\u001b[0m\u001b[0;34m,\u001b[0m \u001b[0mrandom_state\u001b[0m\u001b[0;34m=\u001b[0m\u001b[0mrandom_state\u001b[0m\u001b[0;34m,\u001b[0m \u001b[0mcopy_x\u001b[0m\u001b[0;34m=\u001b[0m\u001b[0mself\u001b[0m\u001b[0;34m.\u001b[0m\u001b[0mcopy_x\u001b[0m\u001b[0;34m,\u001b[0m\u001b[0;34m\u001b[0m\u001b[0;34m\u001b[0m\u001b[0m\n\u001b[1;32m    970\u001b[0m                 \u001b[0mn_jobs\u001b[0m\u001b[0;34m=\u001b[0m\u001b[0mself\u001b[0m\u001b[0;34m.\u001b[0m\u001b[0mn_jobs\u001b[0m\u001b[0;34m,\u001b[0m \u001b[0malgorithm\u001b[0m\u001b[0;34m=\u001b[0m\u001b[0mself\u001b[0m\u001b[0;34m.\u001b[0m\u001b[0malgorithm\u001b[0m\u001b[0;34m,\u001b[0m\u001b[0;34m\u001b[0m\u001b[0;34m\u001b[0m\u001b[0m\n\u001b[0;32m--> 971\u001b[0;31m                 return_n_iter=True)\n\u001b[0m\u001b[1;32m    972\u001b[0m         \u001b[0;32mreturn\u001b[0m \u001b[0mself\u001b[0m\u001b[0;34m\u001b[0m\u001b[0;34m\u001b[0m\u001b[0m\n\u001b[1;32m    973\u001b[0m \u001b[0;34m\u001b[0m\u001b[0m\n",
      "\u001b[0;32m~/anaconda3/lib/python3.7/site-packages/sklearn/cluster/k_means_.py\u001b[0m in \u001b[0;36mk_means\u001b[0;34m(X, n_clusters, sample_weight, init, precompute_distances, n_init, max_iter, verbose, tol, random_state, copy_x, n_jobs, algorithm, return_n_iter)\u001b[0m\n\u001b[1;32m    378\u001b[0m                 \u001b[0mverbose\u001b[0m\u001b[0;34m=\u001b[0m\u001b[0mverbose\u001b[0m\u001b[0;34m,\u001b[0m \u001b[0mprecompute_distances\u001b[0m\u001b[0;34m=\u001b[0m\u001b[0mprecompute_distances\u001b[0m\u001b[0;34m,\u001b[0m\u001b[0;34m\u001b[0m\u001b[0;34m\u001b[0m\u001b[0m\n\u001b[1;32m    379\u001b[0m                 \u001b[0mtol\u001b[0m\u001b[0;34m=\u001b[0m\u001b[0mtol\u001b[0m\u001b[0;34m,\u001b[0m \u001b[0mx_squared_norms\u001b[0m\u001b[0;34m=\u001b[0m\u001b[0mx_squared_norms\u001b[0m\u001b[0;34m,\u001b[0m\u001b[0;34m\u001b[0m\u001b[0;34m\u001b[0m\u001b[0m\n\u001b[0;32m--> 380\u001b[0;31m                 random_state=random_state)\n\u001b[0m\u001b[1;32m    381\u001b[0m             \u001b[0;31m# determine if these results are the best so far\u001b[0m\u001b[0;34m\u001b[0m\u001b[0;34m\u001b[0m\u001b[0;34m\u001b[0m\u001b[0m\n\u001b[1;32m    382\u001b[0m             \u001b[0;32mif\u001b[0m \u001b[0mbest_inertia\u001b[0m \u001b[0;32mis\u001b[0m \u001b[0;32mNone\u001b[0m \u001b[0;32mor\u001b[0m \u001b[0minertia\u001b[0m \u001b[0;34m<\u001b[0m \u001b[0mbest_inertia\u001b[0m\u001b[0;34m:\u001b[0m\u001b[0;34m\u001b[0m\u001b[0;34m\u001b[0m\u001b[0m\n",
      "\u001b[0;32m~/anaconda3/lib/python3.7/site-packages/sklearn/cluster/k_means_.py\u001b[0m in \u001b[0;36m_kmeans_single_lloyd\u001b[0;34m(X, sample_weight, n_clusters, max_iter, init, verbose, x_squared_norms, random_state, tol, precompute_distances)\u001b[0m\n\u001b[1;32m    549\u001b[0m         \u001b[0;32mif\u001b[0m \u001b[0msp\u001b[0m\u001b[0;34m.\u001b[0m\u001b[0missparse\u001b[0m\u001b[0;34m(\u001b[0m\u001b[0mX\u001b[0m\u001b[0;34m)\u001b[0m\u001b[0;34m:\u001b[0m\u001b[0;34m\u001b[0m\u001b[0;34m\u001b[0m\u001b[0m\n\u001b[1;32m    550\u001b[0m             centers = _k_means._centers_sparse(X, sample_weight, labels,\n\u001b[0;32m--> 551\u001b[0;31m                                                n_clusters, distances)\n\u001b[0m\u001b[1;32m    552\u001b[0m         \u001b[0;32melse\u001b[0m\u001b[0;34m:\u001b[0m\u001b[0;34m\u001b[0m\u001b[0;34m\u001b[0m\u001b[0m\n\u001b[1;32m    553\u001b[0m             centers = _k_means._centers_dense(X, sample_weight, labels,\n",
      "\u001b[0;31mKeyboardInterrupt\u001b[0m: "
     ]
    }
   ],
   "source": [
    "visualizer.fit(sample)\n",
    "visualizer.show() "
   ]
  },
  {
   "cell_type": "code",
   "execution_count": 47,
   "metadata": {},
   "outputs": [
    {
     "name": "stdout",
     "output_type": "stream",
     "text": [
      "1\n",
      "fitting\n",
      "distortion\n"
     ]
    },
    {
     "ename": "ValueError",
     "evalue": "XA must be a 2-dimensional array.",
     "output_type": "error",
     "traceback": [
      "\u001b[0;31m---------------------------------------------------------------------------\u001b[0m",
      "\u001b[0;31mValueError\u001b[0m                                Traceback (most recent call last)",
      "\u001b[0;32m<ipython-input-47-521a695f83d0>\u001b[0m in \u001b[0;36m<module>\u001b[0;34m\u001b[0m\n\u001b[1;32m     13\u001b[0m     \u001b[0mprint\u001b[0m\u001b[0;34m(\u001b[0m\u001b[0;34m'distortion'\u001b[0m\u001b[0;34m)\u001b[0m\u001b[0;34m\u001b[0m\u001b[0;34m\u001b[0m\u001b[0m\n\u001b[1;32m     14\u001b[0m     distortions.append(sum(np.min(cdist(sample, kmeanModel.cluster_centers_, \n\u001b[0;32m---> 15\u001b[0;31m                       'euclidean'),axis=1)) / sample.shape[0]) \n\u001b[0m\u001b[1;32m     16\u001b[0m     \u001b[0mprint\u001b[0m\u001b[0;34m(\u001b[0m\u001b[0;34m'inertia'\u001b[0m\u001b[0;34m)\u001b[0m\u001b[0;34m\u001b[0m\u001b[0;34m\u001b[0m\u001b[0m\n\u001b[1;32m     17\u001b[0m     \u001b[0minertias\u001b[0m\u001b[0;34m.\u001b[0m\u001b[0mappend\u001b[0m\u001b[0;34m(\u001b[0m\u001b[0mkmeanModel\u001b[0m\u001b[0;34m.\u001b[0m\u001b[0minertia_\u001b[0m\u001b[0;34m)\u001b[0m\u001b[0;34m\u001b[0m\u001b[0;34m\u001b[0m\u001b[0m\n",
      "\u001b[0;32m~/anaconda3/lib/python3.7/site-packages/scipy/spatial/distance.py\u001b[0m in \u001b[0;36mcdist\u001b[0;34m(XA, XB, metric, *args, **kwargs)\u001b[0m\n\u001b[1;32m   2696\u001b[0m \u001b[0;34m\u001b[0m\u001b[0m\n\u001b[1;32m   2697\u001b[0m     \u001b[0;32mif\u001b[0m \u001b[0mlen\u001b[0m\u001b[0;34m(\u001b[0m\u001b[0ms\u001b[0m\u001b[0;34m)\u001b[0m \u001b[0;34m!=\u001b[0m \u001b[0;36m2\u001b[0m\u001b[0;34m:\u001b[0m\u001b[0;34m\u001b[0m\u001b[0;34m\u001b[0m\u001b[0m\n\u001b[0;32m-> 2698\u001b[0;31m         \u001b[0;32mraise\u001b[0m \u001b[0mValueError\u001b[0m\u001b[0;34m(\u001b[0m\u001b[0;34m'XA must be a 2-dimensional array.'\u001b[0m\u001b[0;34m)\u001b[0m\u001b[0;34m\u001b[0m\u001b[0;34m\u001b[0m\u001b[0m\n\u001b[0m\u001b[1;32m   2699\u001b[0m     \u001b[0;32mif\u001b[0m \u001b[0mlen\u001b[0m\u001b[0;34m(\u001b[0m\u001b[0msB\u001b[0m\u001b[0;34m)\u001b[0m \u001b[0;34m!=\u001b[0m \u001b[0;36m2\u001b[0m\u001b[0;34m:\u001b[0m\u001b[0;34m\u001b[0m\u001b[0;34m\u001b[0m\u001b[0m\n\u001b[1;32m   2700\u001b[0m         \u001b[0;32mraise\u001b[0m \u001b[0mValueError\u001b[0m\u001b[0;34m(\u001b[0m\u001b[0;34m'XB must be a 2-dimensional array.'\u001b[0m\u001b[0;34m)\u001b[0m\u001b[0;34m\u001b[0m\u001b[0;34m\u001b[0m\u001b[0m\n",
      "\u001b[0;31mValueError\u001b[0m: XA must be a 2-dimensional array."
     ]
    }
   ],
   "source": [
    "distortions = [] \n",
    "inertias = [] \n",
    "mapping1 = {} \n",
    "mapping2 = {} \n",
    "K = range(1,10) \n",
    "  \n",
    "for k in K: \n",
    "    #Building and fitting the model \n",
    "    print(k)\n",
    "    kmeanModel = KMeans(n_clusters=k).fit(sample) \n",
    "    print('fitting')\n",
    "    kmeanModel.fit(sample)     \n",
    "    print('distortion')\n",
    "    distortions.append(sum(np.min(cdist(sample, kmeanModel.cluster_centers_, \n",
    "                      'euclidean'),axis=1)) / sample.shape[0]) \n",
    "    print('inertia')\n",
    "    inertias.append(kmeanModel.inertia_) \n",
    "    print('mapping')\n",
    "    mapping1[k] = sum(np.min(cdist(sample, kmeanModel.cluster_centers_, \n",
    "                 'euclidean'),axis=1)) / sample.shape[0] \n",
    "    mapping2[k] = kmeanModel.inertia_ "
   ]
  }
 ],
 "metadata": {
  "kernelspec": {
   "display_name": "Python 3",
   "language": "python",
   "name": "python3"
  },
  "language_info": {
   "codemirror_mode": {
    "name": "ipython",
    "version": 3
   },
   "file_extension": ".py",
   "mimetype": "text/x-python",
   "name": "python",
   "nbconvert_exporter": "python",
   "pygments_lexer": "ipython3",
   "version": "3.7.3"
  }
 },
 "nbformat": 4,
 "nbformat_minor": 2
}
